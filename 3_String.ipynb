{
 "cells": [
  {
   "cell_type": "code",
   "execution_count": 2,
   "metadata": {},
   "outputs": [
    {
     "name": "stdout",
     "output_type": "stream",
     "text": [
      "e\n"
     ]
    }
   ],
   "source": [
    "str1=\"Raheleh\"\n",
    "print(str1[-2])"
   ]
  },
  {
   "cell_type": "code",
   "execution_count": 39,
   "metadata": {},
   "outputs": [
    {
     "name": "stdout",
     "output_type": "stream",
     "text": [
      "True\n"
     ]
    }
   ],
   "source": [
    "str1=\"I am learning Python!\"\n",
    "str2=\"Python.pdf\"\n",
    "find=str1.startswith(\"I\")\n",
    "print(find)"
   ]
  },
  {
   "cell_type": "code",
   "execution_count": 4,
   "metadata": {},
   "outputs": [
    {
     "name": "stdout",
     "output_type": "stream",
     "text": [
      "n\n"
     ]
    }
   ],
   "source": [
    "name=\"Python\"\n",
    "print(name[-1])"
   ]
  },
  {
   "cell_type": "code",
   "execution_count": 14,
   "metadata": {},
   "outputs": [
    {
     "name": "stdout",
     "output_type": "stream",
     "text": [
      "6\n"
     ]
    }
   ],
   "source": [
    "name=\"Python\"\n",
    "new_name=name.upper()\n",
    "nn=new_name.lower()\n",
    "ff=name.rindex(\"o\")\n",
    "length=len(name)\n",
    "print(length)"
   ]
  },
  {
   "cell_type": "code",
   "execution_count": 19,
   "metadata": {},
   "outputs": [
    {
     "name": "stdout",
     "output_type": "stream",
     "text": [
      "14 19\n"
     ]
    }
   ],
   "source": [
    "str1=\"I am learning Python!\"\n",
    "name=\"Python\"\n",
    "l1=len(name)-1\n",
    "ff=str1.find(name)\n",
    "if ff != -1:\n",
    "    l2=l1+ff\n",
    "    print(ff,l2)\n",
    "else:\n",
    "    print(\"Not Valid\")\n",
    "\n"
   ]
  },
  {
   "cell_type": "code",
   "execution_count": 20,
   "metadata": {},
   "outputs": [
    {
     "name": "stdout",
     "output_type": "stream",
     "text": [
      "15\n"
     ]
    }
   ],
   "source": [
    "name=\"Rahele Derakhshande\"\n",
    "ff=name.rfind(\"a\")\n",
    "print(ff)"
   ]
  },
  {
   "cell_type": "code",
   "execution_count": 25,
   "metadata": {},
   "outputs": [
    {
     "name": "stdout",
     "output_type": "stream",
     "text": [
      "Not Valid\n"
     ]
    }
   ],
   "source": [
    "str1=\"I really want to go to Canada because of my children\"\n",
    "name=\"canada\"\n",
    "l1=len(name)-1\n",
    "ff=str1.find(name)\n",
    "if ff != -1:\n",
    "    l2=ff+l1\n",
    "    print(ff,l2)\n",
    "else:\n",
    "    print(\"Not Valid\")"
   ]
  },
  {
   "cell_type": "code",
   "execution_count": 46,
   "metadata": {},
   "outputs": [
    {
     "name": "stdout",
     "output_type": "stream",
     "text": [
      "False\n"
     ]
    }
   ],
   "source": [
    "\n",
    "name=[\"Seyedeh\" , \"Raheleh\",\"Derakhshandeh\" ,\"Rishehri\"]\n",
    "co=\" & \".join(name)\n",
    "search=\"Rahele\" in name\n",
    "print(search)"
   ]
  },
  {
   "cell_type": "code",
   "execution_count": 54,
   "metadata": {},
   "outputs": [
    {
     "name": "stdout",
     "output_type": "stream",
     "text": [
      "result:(num1 + num2)/2=avg\n",
      "result:( 12 + 20 )/2= 16.0\n",
      "result: (12+20)/2=16.0\n",
      "result:(12 + 20)/2=16.0\n",
      "result: (12+20)/2=16.0\n"
     ]
    }
   ],
   "source": [
    "num1=12\n",
    "num2=20\n",
    "avg=(num1 +num2)/2\n",
    "# result: (12+20)/2=16\n",
    "#result: (num1+num2)/2=avg\n",
    "print(\"result:(num1 + num2)/2=avg\")\n",
    "print(\"result:(\" , num1, \"+\" , num2 ,\")/2=\", avg)\n",
    "print(\"result: ({}+{})/2={}\".format(num1,num2,avg))\n",
    "print(\"result:({} + {})/2={}\".format(num1,num2,avg))\n",
    "print(f\"result: ({num1}+{num2})/2={avg}\")"
   ]
  },
  {
   "cell_type": "code",
   "execution_count": 55,
   "metadata": {},
   "outputs": [
    {
     "name": "stdout",
     "output_type": "stream",
     "text": [
      "Student name: Rahele\n"
     ]
    }
   ],
   "source": [
    "name=input(\"Inser Your Name: \")\n",
    "print( f\"Student name: {name}\")"
   ]
  },
  {
   "cell_type": "code",
   "execution_count": 2,
   "metadata": {},
   "outputs": [
    {
     "name": "stdout",
     "output_type": "stream",
     "text": [
      "5\n"
     ]
    }
   ],
   "source": [
    "name=\"canada\"\n",
    "f1=name.rfind(\"a\")\n",
    "print(f1)"
   ]
  },
  {
   "cell_type": "code",
   "execution_count": 6,
   "metadata": {},
   "outputs": [
    {
     "name": "stdout",
     "output_type": "stream",
     "text": [
      "57\n"
     ]
    }
   ],
   "source": [
    "chr1=\"9\"\n",
    "res1=ord(chr1)\n",
    "print(res1)"
   ]
  },
  {
   "cell_type": "code",
   "execution_count": 11,
   "metadata": {},
   "outputs": [
    {
     "name": "stdout",
     "output_type": "stream",
     "text": [
      "ߐ\n"
     ]
    }
   ],
   "source": [
    "chr3=chr(2000)\n",
    "print(chr3)"
   ]
  },
  {
   "cell_type": "code",
   "execution_count": 12,
   "metadata": {},
   "outputs": [
    {
     "name": "stdout",
     "output_type": "stream",
     "text": [
      "python  java\n"
     ]
    }
   ],
   "source": [
    "chr1=\"python\"\n",
    "chr2=\"java\"\n",
    "print(chr1 + \"  \" + chr2)"
   ]
  },
  {
   "cell_type": "code",
   "execution_count": 15,
   "metadata": {},
   "outputs": [
    {
     "name": "stdout",
     "output_type": "stream",
     "text": [
      "java  java  java  java  \n"
     ]
    }
   ],
   "source": [
    "str1=\"java  \"\n",
    "print(str1 * 4)"
   ]
  },
  {
   "cell_type": "code",
   "execution_count": 18,
   "metadata": {},
   "outputs": [
    {
     "name": "stdout",
     "output_type": "stream",
     "text": [
      "yes\n"
     ]
    }
   ],
   "source": [
    "str1=\"ab\"\n",
    "str2=\"ba\"\n",
    "r_str1=str1[::-1]\n",
    "if str2==r_str1:\n",
    "    print(\"yes\")"
   ]
  },
  {
   "cell_type": "code",
   "execution_count": 33,
   "metadata": {},
   "outputs": [
    {
     "name": "stdout",
     "output_type": "stream",
     "text": [
      "True\n"
     ]
    }
   ],
   "source": [
    "time=\"02:45\"\n",
    "l1=len(time)\n",
    "h=time[:2]\n",
    "m=time[3:]\n",
    "is_digit1=h.isdigit()\n",
    "is_digit2=m.isdigit()\n",
    "if is_digit1:\n",
    "    h=int(h)\n",
    "if is_digit2:\n",
    "    m=int(m)\n",
    "is_valid=l1==5 and is_digit1 and is_digit2 and h<24 and m<60\n",
    "print(is_valid)"
   ]
  },
  {
   "cell_type": "code",
   "execution_count": 40,
   "metadata": {},
   "outputs": [
    {
     "name": "stdout",
     "output_type": "stream",
     "text": [
      "False\n"
     ]
    }
   ],
   "source": [
    "time=\"2:45\"\n",
    "l1=len(time)\n",
    "h=time[:2]\n",
    "m=time[3:]\n",
    "is_digit_h=h.isdigit()\n",
    "is_digit_m=m.isdigit()\n",
    "if is_digit_h:\n",
    "    h=int(h)\n",
    "if is_digit_m:\n",
    "    m=int(m)\n",
    "is_valid= l1==5 and is_digit_h and is_digit_m and h<24 and m<60\n",
    "print(is_valid)"
   ]
  },
  {
   "cell_type": "code",
   "execution_count": 59,
   "metadata": {},
   "outputs": [
    {
     "name": "stdout",
     "output_type": "stream",
     "text": [
      "38 3\n"
     ]
    }
   ],
   "source": [
    "year=1985\n",
    "month=7\n",
    "day=23\n",
    "## 2023.10.05\n",
    "new_year=2023-year\n",
    "if month < 10 :\n",
    "    new_m=10 - month\n",
    "  \n",
    "elif month > 10:\n",
    "    new_year=new_year-1\n",
    "    new_mm=10-month\n",
    "    new_m=12-new_mm\n",
    "print(new_year,new_m)\n",
    "\n",
    " "
   ]
  }
 ],
 "metadata": {
  "kernelspec": {
   "display_name": "base",
   "language": "python",
   "name": "python3"
  },
  "language_info": {
   "codemirror_mode": {
    "name": "ipython",
    "version": 3
   },
   "file_extension": ".py",
   "mimetype": "text/x-python",
   "name": "python",
   "nbconvert_exporter": "python",
   "pygments_lexer": "ipython3",
   "version": "3.9.12"
  },
  "orig_nbformat": 4
 },
 "nbformat": 4,
 "nbformat_minor": 2
}
