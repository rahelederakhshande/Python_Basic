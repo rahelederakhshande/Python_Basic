{
 "cells": [
  {
   "cell_type": "code",
   "execution_count": 1,
   "metadata": {},
   "outputs": [
    {
     "name": "stdout",
     "output_type": "stream",
     "text": [
      "12.56\n"
     ]
    }
   ],
   "source": [
    "r = int(input(\"radius: \"))\n",
    "pi = 3.14\n",
    "if r >= 0:\n",
    "  area = pi * r ** 2\n",
    "  print(area)\n",
    "else:\n",
    "  print(-1)"
   ]
  },
  {
   "cell_type": "code",
   "execution_count": 2,
   "metadata": {},
   "outputs": [
    {
     "name": "stdout",
     "output_type": "stream",
     "text": [
      "78.5\n"
     ]
    }
   ],
   "source": [
    "r = int(input(\"radius: \"))\n",
    "pi = 3.14\n",
    "if r >= 0:\n",
    "  area = pi * r ** 2\n",
    "  print(area)\n",
    "else:\n",
    "  print(-1)"
   ]
  },
  {
   "cell_type": "code",
   "execution_count": 3,
   "metadata": {},
   "outputs": [],
   "source": [
    "def calculate_area():\n",
    "  r = int(input(\"radius: \"))\n",
    "  pi = 3.14\n",
    "  if r >= 0:\n",
    "    area = pi * r ** 2\n",
    "    print(area)\n",
    "  else:\n",
    "    print(-1)"
   ]
  },
  {
   "cell_type": "code",
   "execution_count": 5,
   "metadata": {},
   "outputs": [
    {
     "name": "stdout",
     "output_type": "stream",
     "text": [
      "-1\n"
     ]
    }
   ],
   "source": [
    "calculate_area()"
   ]
  },
  {
   "cell_type": "code",
   "execution_count": 4,
   "metadata": {},
   "outputs": [
    {
     "name": "stdout",
     "output_type": "stream",
     "text": [
      "314.0\n"
     ]
    }
   ],
   "source": [
    "calculate_area()"
   ]
  },
  {
   "cell_type": "code",
   "execution_count": 11,
   "metadata": {},
   "outputs": [],
   "source": [
    "def calculate_area(r, pi):\n",
    "  # r = 5\n",
    "  # pi = 3.14\n",
    "  if r >= 0:\n",
    "    area = pi * r ** 2\n",
    "    print(area)\n",
    "  else:\n",
    "    print(-1)"
   ]
  },
  {
   "cell_type": "code",
   "execution_count": 14,
   "metadata": {},
   "outputs": [
    {
     "name": "stdout",
     "output_type": "stream",
     "text": [
      "78.5\n"
     ]
    }
   ],
   "source": [
    "#radius = int(input(\"radius: \")) # radius = 5\n",
    "pi = 3.14\n",
    "calculate_area(5, 3.14) # calculate_area(5)"
   ]
  },
  {
   "cell_type": "code",
   "execution_count": 37,
   "metadata": {},
   "outputs": [],
   "source": [
    "def calculate_area1(r, pi):\n",
    "  # r = 5\n",
    "  # pi = 3.14\n",
    "  if r >= 0:\n",
    "    area = pi * r ** 2\n",
    "    circumference = pi * r * 2\n",
    "    return area, circumference\n",
    "  return -1, -1"
   ]
  },
  {
   "cell_type": "code",
   "execution_count": 38,
   "metadata": {},
   "outputs": [
    {
     "name": "stdout",
     "output_type": "stream",
     "text": [
      "-1\n",
      "-1\n"
     ]
    }
   ],
   "source": [
    "a, c = calculate_area1(-2, 3.14)\n",
    "print(a)\n",
    "print(c)\n",
    "#calculate_area(3, 3.14)"
   ]
  },
  {
   "cell_type": "code",
   "execution_count": 39,
   "metadata": {},
   "outputs": [],
   "source": [
    "def calculate_area2(r, pi):\n",
    "  # r = 5\n",
    "  # pi = 3.14\n",
    "  if r >= 0:\n",
    "    area = pi * r ** 2\n",
    "    return area\n",
    "  return -1\n"
   ]
  },
  {
   "cell_type": "code",
   "execution_count": 45,
   "metadata": {},
   "outputs": [],
   "source": [
    "def sum_numbers(num1, num2):\n",
    "  res = num1 + num2\n",
    "  return res"
   ]
  },
  {
   "cell_type": "code",
   "execution_count": 50,
   "metadata": {},
   "outputs": [],
   "source": [
    "def minus_numbers(num1, num2):\n",
    "  res = num1 - num2\n",
    "  return res"
   ]
  },
  {
   "cell_type": "code",
   "execution_count": 51,
   "metadata": {},
   "outputs": [],
   "source": [
    "def calculate_result1(area1, area2):\n",
    "  if area1 != -1 and area2 != -1:\n",
    "    sum_area = sum_numbers(area1, area2)\n",
    "    return sum_area\n",
    "  return -1\n"
   ]
  },
  {
   "cell_type": "code",
   "execution_count": 52,
   "metadata": {},
   "outputs": [],
   "source": [
    "def calculate_result2(area1, area2):\n",
    "  if area1 != -1 and area2 != -1:\n",
    "    sum_area = minus_numbers(area1, area2)\n",
    "    return sum_area\n",
    "  return -1\n"
   ]
  },
  {
   "cell_type": "code",
   "execution_count": 55,
   "metadata": {},
   "outputs": [],
   "source": [
    "def calculate_result(area1, area2, function1):\n",
    "  if area1 != -1 and area2 != -1:\n",
    "    sum_area = function1(area1, area2)\n",
    "    return sum_area\n",
    "  return -1\n"
   ]
  },
  {
   "cell_type": "code",
   "execution_count": 43,
   "metadata": {},
   "outputs": [
    {
     "name": "stdout",
     "output_type": "stream",
     "text": [
      "28.26 50.24\n"
     ]
    }
   ],
   "source": [
    "area1 = calculate_area2(3, 3.14)\n",
    "area2 = calculate_area2(4, 3.14)\n",
    "print(area1, area2)"
   ]
  },
  {
   "cell_type": "code",
   "execution_count": 53,
   "metadata": {},
   "outputs": [
    {
     "name": "stdout",
     "output_type": "stream",
     "text": [
      "78.5\n"
     ]
    }
   ],
   "source": [
    "res = calculate_result1(area1, area2)\n",
    "print(res)"
   ]
  },
  {
   "cell_type": "code",
   "execution_count": 54,
   "metadata": {},
   "outputs": [
    {
     "name": "stdout",
     "output_type": "stream",
     "text": [
      "-21.98\n"
     ]
    }
   ],
   "source": [
    "res = calculate_result2(area1, area2)\n",
    "print(res)"
   ]
  },
  {
   "cell_type": "code",
   "execution_count": 56,
   "metadata": {},
   "outputs": [
    {
     "name": "stdout",
     "output_type": "stream",
     "text": [
      "78.5\n"
     ]
    }
   ],
   "source": [
    "# sum\n",
    "res = calculate_result(area1, area2, sum_numbers)\n",
    "print(res)"
   ]
  },
  {
   "cell_type": "code",
   "execution_count": 57,
   "metadata": {},
   "outputs": [
    {
     "name": "stdout",
     "output_type": "stream",
     "text": [
      "-21.98\n"
     ]
    }
   ],
   "source": [
    "# minus\n",
    "res = calculate_result(area1, area2, minus_numbers)\n",
    "print(res)"
   ]
  },
  {
   "cell_type": "code",
   "execution_count": 69,
   "metadata": {},
   "outputs": [],
   "source": [
    "def sum_(math = 0, python = 0, java = 0):\n",
    "  res = math + python + java\n",
    "  print(res)"
   ]
  },
  {
   "cell_type": "code",
   "execution_count": 70,
   "metadata": {},
   "outputs": [
    {
     "name": "stdout",
     "output_type": "stream",
     "text": [
      "0\n"
     ]
    }
   ],
   "source": [
    "sum_()"
   ]
  },
  {
   "cell_type": "code",
   "execution_count": 71,
   "metadata": {},
   "outputs": [
    {
     "name": "stdout",
     "output_type": "stream",
     "text": [
      "[5, 14, 17, 15]\n"
     ]
    }
   ],
   "source": [
    "list1 = [3, 12, 15, 13]\n",
    "list2 = []\n",
    "for i in list1:\n",
    "  list2.append(i + 2)\n",
    "print(list2)"
   ]
  },
  {
   "cell_type": "code",
   "execution_count": 76,
   "metadata": {},
   "outputs": [
    {
     "name": "stdout",
     "output_type": "stream",
     "text": [
      "5\n"
     ]
    }
   ],
   "source": [
    "list1 = [\"3\", \"12\", \"15\", \"13\"]\n",
    "# int\n",
    "list2 = list(map(int, list1))\n",
    "print(list2[0] + 2)"
   ]
  },
  {
   "cell_type": "code",
   "execution_count": 82,
   "metadata": {},
   "outputs": [],
   "source": [
    "def sum_numbers(num1, num2, num3):\n",
    "  res = num1 + num2 + num3\n",
    "  return res"
   ]
  },
  {
   "cell_type": "code",
   "execution_count": 84,
   "metadata": {},
   "outputs": [],
   "source": [
    "sum_numbers2 = lambda num1, num2, num3 : num1 + num2 + num3"
   ]
  },
  {
   "cell_type": "code",
   "execution_count": 86,
   "metadata": {},
   "outputs": [
    {
     "name": "stdout",
     "output_type": "stream",
     "text": [
      "14\n"
     ]
    }
   ],
   "source": [
    "res = sum_numbers2(2, 5, 7)\n",
    "print(res)"
   ]
  },
  {
   "cell_type": "code",
   "execution_count": 85,
   "metadata": {},
   "outputs": [
    {
     "name": "stdout",
     "output_type": "stream",
     "text": [
      "[9, 11, 38, 29, 23]\n"
     ]
    }
   ],
   "source": [
    "list1 = [3, 1, 6, 13, 15] # 0, 1, 2, 3, 4\n",
    "list2 = [3, 5, 16, 8, 4, 10] # 4 ===> IndexError\n",
    "list4 = [3, 5, 16, 8, 4, 10]\n",
    "list3 = list(map(sum_numbers2, list1, list2, list4))\n",
    "print(list3)\n"
   ]
  },
  {
   "cell_type": "code",
   "execution_count": 87,
   "metadata": {},
   "outputs": [],
   "source": [
    "function1 = lambda x : x + 5"
   ]
  },
  {
   "cell_type": "code",
   "execution_count": 88,
   "metadata": {},
   "outputs": [
    {
     "name": "stdout",
     "output_type": "stream",
     "text": [
      "10\n"
     ]
    }
   ],
   "source": [
    "res = function1(5)\n",
    "print(res)"
   ]
  }
 ],
 "metadata": {
  "kernelspec": {
   "display_name": "base",
   "language": "python",
   "name": "python3"
  },
  "language_info": {
   "codemirror_mode": {
    "name": "ipython",
    "version": 3
   },
   "file_extension": ".py",
   "mimetype": "text/x-python",
   "name": "python",
   "nbconvert_exporter": "python",
   "pygments_lexer": "ipython3",
   "version": "3.9.13"
  },
  "orig_nbformat": 4
 },
 "nbformat": 4,
 "nbformat_minor": 2
}
