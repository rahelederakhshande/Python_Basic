{
 "cells": [
  {
   "cell_type": "code",
   "execution_count": 1,
   "metadata": {},
   "outputs": [
    {
     "name": "stdout",
     "output_type": "stream",
     "text": [
      "[12, 14, 15, 28, 20]\n",
      "['sara', 18.3, 18, True]\n"
     ]
    }
   ],
   "source": [
    "numbers = [12, 14, 15, 28, 20]\n",
    "print(numbers)\n",
    "scores = [12.6, 18.3, 19.0]\n",
    "names = [\"Sara\", \"Diana\"]\n",
    "is_login = [True, False, False]\n",
    "list1 = [\"sara\", 18.3, 18, True]\n",
    "print(list1)"
   ]
  },
  {
   "cell_type": "code",
   "execution_count": 10,
   "metadata": {},
   "outputs": [
    {
     "name": "stdout",
     "output_type": "stream",
     "text": [
      "['sara', 18.3, None, True]\n"
     ]
    }
   ],
   "source": [
    "list1 = [\"sara\", 18.3, None, True]\n",
    "print(list1)"
   ]
  },
  {
   "cell_type": "code",
   "execution_count": 15,
   "metadata": {},
   "outputs": [
    {
     "name": "stdout",
     "output_type": "stream",
     "text": [
      "[] []\n",
      "<class 'list'>\n"
     ]
    }
   ],
   "source": [
    "list2 = []\n",
    "list3 = list()\n",
    "print(list2, list3)\n",
    "print(type(list2))"
   ]
  },
  {
   "cell_type": "code",
   "execution_count": 17,
   "metadata": {},
   "outputs": [
    {
     "name": "stdout",
     "output_type": "stream",
     "text": [
      "False\n"
     ]
    }
   ],
   "source": [
    "## \"\", 0.0, 0, False, [], None\n",
    "res = bool([])\n",
    "print(res)"
   ]
  },
  {
   "cell_type": "code",
   "execution_count": 19,
   "metadata": {},
   "outputs": [
    {
     "name": "stdout",
     "output_type": "stream",
     "text": [
      "<class 'NoneType'>\n"
     ]
    }
   ],
   "source": [
    "x = None\n",
    "print(type(x))"
   ]
  },
  {
   "cell_type": "code",
   "execution_count": 20,
   "metadata": {},
   "outputs": [
    {
     "name": "stdout",
     "output_type": "stream",
     "text": [
      "[12.9, 13, 17, 18.4, 19]\n"
     ]
    }
   ],
   "source": [
    "scores = [12.9, 13, 17, 18.4, 19]\n",
    "print(scores)"
   ]
  },
  {
   "cell_type": "code",
   "execution_count": 25,
   "metadata": {},
   "outputs": [
    {
     "name": "stdout",
     "output_type": "stream",
     "text": [
      "17\n",
      "18.4\n"
     ]
    }
   ],
   "source": [
    "scores = [12.9, 13, 17, 18.4, 19]\n",
    "#index     0     1   2    3   4  \n",
    "# index   -5    -4   -3  -2   -1        \n",
    "print(scores[2])\n",
    "print(scores[-2])\n",
    "# print(scores[7]) IndexError"
   ]
  },
  {
   "cell_type": "code",
   "execution_count": 32,
   "metadata": {},
   "outputs": [
    {
     "name": "stdout",
     "output_type": "stream",
     "text": [
      "[13, 17, 18.4]\n",
      "[12.9, 17, 19]\n",
      "[19, 18.4, 17, 13, 12.9]\n",
      "[19, 18.4, 17, 13, 12.9]\n"
     ]
    }
   ],
   "source": [
    "scores = [12.9, 13, 17, 18.4, 19]\n",
    "# index     0    1   2   3     4\n",
    "# slicing\n",
    "print(scores[1:4])\n",
    "# [start:stop:step]\n",
    "# start ===> def : 0\n",
    "# stop ====> def : end of list\n",
    "# step ===> def : 1\n",
    "print(scores[::2])\n",
    "print(scores[::-1])\n",
    "scores.reverse()\n",
    "print(scores)"
   ]
  },
  {
   "cell_type": "code",
   "execution_count": 2,
   "metadata": {},
   "outputs": [
    {
     "name": "stdout",
     "output_type": "stream",
     "text": [
      "[12.9, 13, 17, 18.4, 19, 20]\n"
     ]
    }
   ],
   "source": [
    "scores = [12.9, 13, 17, 18.4, 19]\n",
    "# index     0    1   2   3    4\n",
    "scores.append(20) # add to the end of list\n",
    "print(scores)"
   ]
  },
  {
   "cell_type": "code",
   "execution_count": 35,
   "metadata": {},
   "outputs": [
    {
     "name": "stdout",
     "output_type": "stream",
     "text": [
      "[12.9, 13, 18, 17, 18.4, 19]\n"
     ]
    }
   ],
   "source": [
    "scores = [12.9, 13, 17, 18.4, 19]\n",
    "# index     0    1   2   3    4\n",
    "scores.insert(2, 18)\n",
    "print(scores)"
   ]
  },
  {
   "cell_type": "code",
   "execution_count": 36,
   "metadata": {},
   "outputs": [
    {
     "name": "stdout",
     "output_type": "stream",
     "text": [
      "[12.9, 15, 17, 18.4, 19]\n"
     ]
    }
   ],
   "source": [
    "scores = [12.9, 13, 17, 18.4, 19]\n",
    "scores[1] = 15\n",
    "print(scores)"
   ]
  },
  {
   "cell_type": "code",
   "execution_count": 40,
   "metadata": {},
   "outputs": [
    {
     "name": "stdout",
     "output_type": "stream",
     "text": [
      "[12.9, 17, 18.4, 19] None\n"
     ]
    }
   ],
   "source": [
    "scores = [12.9, 13, 17, 18.4, 19]\n",
    "# value\n",
    "# index    0     1   2   3     4\n",
    "res = scores.remove(13)\n",
    "print(scores, res)"
   ]
  },
  {
   "cell_type": "code",
   "execution_count": 39,
   "metadata": {},
   "outputs": [
    {
     "name": "stdout",
     "output_type": "stream",
     "text": [
      "[12.9, 13, 17, 19] 18.4\n"
     ]
    }
   ],
   "source": [
    "scores = [12.9, 13, 17, 18.4, 19]\n",
    "# index    0     1   2  3      4\n",
    "res = scores.pop(3)\n",
    "print(scores, res)"
   ]
  },
  {
   "cell_type": "code",
   "execution_count": 41,
   "metadata": {},
   "outputs": [
    {
     "name": "stdout",
     "output_type": "stream",
     "text": [
      "[]\n"
     ]
    }
   ],
   "source": [
    "scores = [12.9, 13, 17, 18.4, 19]\n",
    "scores.clear()\n",
    "print(scores)"
   ]
  },
  {
   "cell_type": "code",
   "execution_count": 45,
   "metadata": {},
   "outputs": [
    {
     "name": "stdout",
     "output_type": "stream",
     "text": [
      "[12.9, 17, 18.4, 19]\n"
     ]
    }
   ],
   "source": [
    "scores = [12.9, 13, 17, 18.4, 19]\n",
    "del scores[1]\n",
    "print(scores)"
   ]
  },
  {
   "cell_type": "code",
   "execution_count": 46,
   "metadata": {},
   "outputs": [
    {
     "name": "stdout",
     "output_type": "stream",
     "text": [
      "[12.9, 19]\n"
     ]
    }
   ],
   "source": [
    "scores = [12.9, 13, 17, 18.4, 19]\n",
    "del scores[1:4]\n",
    "print(scores)"
   ]
  },
  {
   "cell_type": "code",
   "execution_count": 52,
   "metadata": {},
   "outputs": [
    {
     "name": "stdout",
     "output_type": "stream",
     "text": [
      "False\n",
      "[12.9, 13, 17, 18.4]\n"
     ]
    }
   ],
   "source": [
    "scores = [12.9, 13, 17, 18.4, 19]\n",
    "print(19 not in scores)\n",
    "if 19 in scores:\n",
    "  scores.remove(19)\n",
    "else:\n",
    "  print(\"not found!\")\n",
    "print(scores)"
   ]
  },
  {
   "cell_type": "code",
   "execution_count": 53,
   "metadata": {},
   "outputs": [
    {
     "name": "stdout",
     "output_type": "stream",
     "text": [
      "p\n",
      "y\n",
      "t\n",
      "h\n",
      "o\n",
      "n\n"
     ]
    }
   ],
   "source": [
    "for i in \"python\":\n",
    "  print(i)"
   ]
  },
  {
   "cell_type": "code",
   "execution_count": 54,
   "metadata": {},
   "outputs": [
    {
     "name": "stdout",
     "output_type": "stream",
     "text": [
      "2\n",
      "18\n",
      "19\n",
      "28\n"
     ]
    }
   ],
   "source": [
    "numbers = [2, 18, 19, 28]\n",
    "for i in numbers:\n",
    "  print(i)"
   ]
  },
  {
   "cell_type": "code",
   "execution_count": 58,
   "metadata": {},
   "outputs": [
    {
     "name": "stdout",
     "output_type": "stream",
     "text": [
      "[0, 1, 2, 3, 4, 5, 6, 7, 8, 9]\n",
      "0\n",
      "1\n",
      "2\n",
      "3\n",
      "4\n",
      "5\n",
      "6\n",
      "7\n",
      "8\n",
      "9\n"
     ]
    }
   ],
   "source": [
    "list1 = list(range(10))\n",
    "print(list1)\n",
    "for i in range(10):\n",
    "  print(i)"
   ]
  },
  {
   "cell_type": "code",
   "execution_count": 59,
   "metadata": {},
   "outputs": [
    {
     "name": "stdout",
     "output_type": "stream",
     "text": [
      "2,18,19,28,"
     ]
    }
   ],
   "source": [
    "# value of list\n",
    "numbers = [2, 18, 19, 28]\n",
    "for i in numbers:\n",
    "  print(i, end=\",\")"
   ]
  },
  {
   "cell_type": "code",
   "execution_count": 71,
   "metadata": {},
   "outputs": [
    {
     "name": "stdout",
     "output_type": "stream",
     "text": [
      "3\n",
      "2,18,19,"
     ]
    }
   ],
   "source": [
    "# index of list\n",
    "numbers = [2, 18, 19]\n",
    "#          0   1   2   3\n",
    "# range(4)\n",
    "len_numbers = len(numbers)\n",
    "print(len_numbers)\n",
    "for i in range(len_numbers):\n",
    "  print(numbers[i], end=\",\")"
   ]
  },
  {
   "cell_type": "code",
   "execution_count": 73,
   "metadata": {},
   "outputs": [
    {
     "name": "stdout",
     "output_type": "stream",
     "text": [
      "0 2\n",
      "1 18\n",
      "2 19\n"
     ]
    }
   ],
   "source": [
    "scores = [2, 18, 19]\n",
    "for i, v in enumerate(scores):\n",
    "  print(i, v)"
   ]
  },
  {
   "cell_type": "code",
   "execution_count": 74,
   "metadata": {},
   "outputs": [
    {
     "name": "stdout",
     "output_type": "stream",
     "text": [
      "[(0, 2), (1, 18), (2, 19)]\n"
     ]
    }
   ],
   "source": [
    "new_list = list(enumerate(scores))\n",
    "print(new_list)"
   ]
  },
  {
   "cell_type": "code",
   "execution_count": 76,
   "metadata": {},
   "outputs": [
    {
     "name": "stdout",
     "output_type": "stream",
     "text": [
      "x value:10, y value: 10\n",
      "x value:20, y value: 10\n"
     ]
    }
   ],
   "source": [
    "x = 10\n",
    "y = x\n",
    "print(f\"x value:{x}, y value: {y}\")\n",
    "x = 20\n",
    "print(f\"x value:{x}, y value: {y}\")"
   ]
  },
  {
   "cell_type": "code",
   "execution_count": 78,
   "metadata": {},
   "outputs": [
    {
     "name": "stdout",
     "output_type": "stream",
     "text": [
      "list1:[2, 17, 13], list2: [2, 17, 13]\n",
      "list1:[2, 17, 13, 50], list2: [2, 17, 13, 50]\n"
     ]
    }
   ],
   "source": [
    "list1 = [2, 17, 13]\n",
    "list2 = list1\n",
    "print(f\"list1:{list1}, list2: {list2}\")\n",
    "list1.append(50)\n",
    "print(f\"list1:{list1}, list2: {list2}\")"
   ]
  },
  {
   "cell_type": "code",
   "execution_count": 80,
   "metadata": {},
   "outputs": [
    {
     "name": "stdout",
     "output_type": "stream",
     "text": [
      "list1:[3, 17, 18], list2: [3, 17, 18]\n",
      "list1:[3, 17, 18], list2: [3, 17, 18, 50]\n"
     ]
    }
   ],
   "source": [
    "list1 = [3, 17, 18]\n",
    "list2 = list1[:]\n",
    "print(f\"list1:{list1}, list2: {list2}\")\n",
    "list2.append(50)\n",
    "print(f\"list1:{list1}, list2: {list2}\")"
   ]
  },
  {
   "cell_type": "code",
   "execution_count": 81,
   "metadata": {},
   "outputs": [
    {
     "name": "stdout",
     "output_type": "stream",
     "text": [
      "list1:[3, 17, 18], list2: [3, 17, 18]\n",
      "list1:[3, 17, 18], list2: [3, 17, 18, 50]\n"
     ]
    }
   ],
   "source": [
    "list1 = [3, 17, 18]\n",
    "list2 = list(list1)\n",
    "print(f\"list1:{list1}, list2: {list2}\")\n",
    "list2.append(50)\n",
    "print(f\"list1:{list1}, list2: {list2}\")"
   ]
  },
  {
   "cell_type": "code",
   "execution_count": 82,
   "metadata": {},
   "outputs": [
    {
     "name": "stdout",
     "output_type": "stream",
     "text": [
      "list1:[3, 17, 18], list2: [3, 17, 18]\n",
      "list1:[3, 17, 18], list2: [3, 17, 18, 50]\n"
     ]
    }
   ],
   "source": [
    "list1 = [3, 17, 18]\n",
    "list2 = list1.copy()\n",
    "print(f\"list1:{list1}, list2: {list2}\")\n",
    "list2.append(50)\n",
    "print(f\"list1:{list1}, list2: {list2}\")"
   ]
  },
  {
   "cell_type": "code",
   "execution_count": 87,
   "metadata": {},
   "outputs": [
    {
     "name": "stdout",
     "output_type": "stream",
     "text": [
      "[12.0, 12.0, 1.0]\n",
      "1.0\n",
      "12.0\n",
      "25.0\n",
      "8.333333333333334\n"
     ]
    }
   ],
   "source": [
    "num = int(input(\"number of your students: \"))\n",
    "scores = []\n",
    "for i in range(num):\n",
    "  score = float(input(f\"student_{i+1}: \"))\n",
    "  scores.append(score)\n",
    "print(scores)\n",
    "min_score = min(scores)\n",
    "print(min_score)\n",
    "max_score = max(scores)\n",
    "print(max_score)\n",
    "sum_score = sum(scores)\n",
    "print(sum_score)\n",
    "avg = sum_score / len(scores)\n",
    "print(avg)"
   ]
  },
  {
   "cell_type": "code",
   "execution_count": 89,
   "metadata": {},
   "outputs": [
    {
     "name": "stdout",
     "output_type": "stream",
     "text": [
      "1\n"
     ]
    }
   ],
   "source": [
    "list1 = [3, 17, 18, 17]\n",
    "res = list1.index(17)\n",
    "print(res)"
   ]
  },
  {
   "cell_type": "code",
   "execution_count": 90,
   "metadata": {},
   "outputs": [
    {
     "name": "stdout",
     "output_type": "stream",
     "text": [
      "2\n"
     ]
    }
   ],
   "source": [
    "list1 = [3, 17, 18, 17]\n",
    "count_num = list1.count(17)\n",
    "print(count_num)"
   ]
  },
  {
   "cell_type": "code",
   "execution_count": 94,
   "metadata": {},
   "outputs": [
    {
     "name": "stdout",
     "output_type": "stream",
     "text": [
      "[27, 18, 3]\n"
     ]
    }
   ],
   "source": [
    "list1 = [3, 27, 18]\n",
    "list1.sort(reverse=True)\n",
    "print(list1)"
   ]
  },
  {
   "cell_type": "code",
   "execution_count": 96,
   "metadata": {},
   "outputs": [
    {
     "name": "stdout",
     "output_type": "stream",
     "text": [
      "[2, 3, 12, 17]\n",
      "[1, 2, 2, 1]\n"
     ]
    }
   ],
   "source": [
    "numbers = [2, 3, 12, 12, 17, 3]\n",
    "nums = []\n",
    "count = []\n",
    "for i in numbers: # i = 2, i = 3\n",
    "  if i not in nums:\n",
    "    nums.append(i)\n",
    "    c_i = numbers.count(i)\n",
    "    count.append(c_i)\n",
    "print(nums)\n",
    "print(count)"
   ]
  }
 ],
 "metadata": {
  "kernelspec": {
   "display_name": "base",
   "language": "python",
   "name": "python3"
  },
  "language_info": {
   "codemirror_mode": {
    "name": "ipython",
    "version": 3
   },
   "file_extension": ".py",
   "mimetype": "text/x-python",
   "name": "python",
   "nbconvert_exporter": "python",
   "pygments_lexer": "ipython3",
   "version": "3.12.0"
  },
  "orig_nbformat": 4
 },
 "nbformat": 4,
 "nbformat_minor": 2
}
