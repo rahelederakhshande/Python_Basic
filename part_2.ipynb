{
 "cells": [
  {
   "cell_type": "markdown",
   "metadata": {},
   "source": [
    "### Session 02 (Condition)"
   ]
  },
  {
   "cell_type": "code",
   "execution_count": 10,
   "metadata": {},
   "outputs": [
    {
     "name": "stdout",
     "output_type": "stream",
     "text": [
      "20\n",
      "end\n"
     ]
    }
   ],
   "source": [
    "num1 = int(input(\"number1: \"))\n",
    "num2 = int(input(\"number2: \"))\n",
    "if num1 > num2:\n",
    "  print(num1) \n",
    "if num2 > num1:\n",
    "  num2 = num2 + 5 \n",
    "  print(num2) \n",
    "print(\"end\")\n"
   ]
  },
  {
   "cell_type": "code",
   "execution_count": 12,
   "metadata": {},
   "outputs": [
    {
     "name": "stdout",
     "output_type": "stream",
     "text": [
      "-\n"
     ]
    }
   ],
   "source": [
    "number = float(input(\"number: \")) # number = -3\n",
    "if number > 0: # -3 > 0 ====> False\n",
    "  print(\"+\")\n",
    "if number < 0: # -3 < 0 ====> True\n",
    "  print(\"-\") # ex"
   ]
  },
  {
   "cell_type": "code",
   "execution_count": null,
   "metadata": {},
   "outputs": [],
   "source": [
    "number = float(input(\"number: \")) # number = 3\n",
    "if number > 0: # 3 > 0 =====> True\n",
    "  print(\"+\") # ex\n",
    "if number < 0: # 3 < 0 ====> False\n",
    "  print(\"-\") "
   ]
  },
  {
   "cell_type": "code",
   "execution_count": null,
   "metadata": {},
   "outputs": [],
   "source": [
    "number = float(input(\"number: \")) # number = -3\n",
    "if number > 0: # False\n",
    "  print(\"+\")\n",
    "else:\n",
    "  print(\"-\") # ex"
   ]
  },
  {
   "cell_type": "code",
   "execution_count": 13,
   "metadata": {},
   "outputs": [
    {
     "name": "stdout",
     "output_type": "stream",
     "text": [
      "60\n",
      "end\n"
     ]
    }
   ],
   "source": [
    "num1 = int(input(\"number1: \"))\n",
    "num2 = int(input(\"number2: \"))\n",
    "if num1 > num2:\n",
    "  print(num1) \n",
    "else:\n",
    "  print(num2) \n",
    "print(\"end\")\n"
   ]
  },
  {
   "cell_type": "code",
   "execution_count": 15,
   "metadata": {},
   "outputs": [
    {
     "name": "stdout",
     "output_type": "stream",
     "text": [
      "Equal!\n"
     ]
    }
   ],
   "source": [
    "num1 = 30\n",
    "num2 = 30\n",
    "if num1 > num2:\n",
    "  print(num1) \n",
    "elif num2 > num1:\n",
    "  print(num2)\n",
    "else:\n",
    "  print(\"Equal!\") \n"
   ]
  },
  {
   "cell_type": "code",
   "execution_count": 17,
   "metadata": {},
   "outputs": [
    {
     "name": "stdout",
     "output_type": "stream",
     "text": [
      "Login\n"
     ]
    }
   ],
   "source": [
    "user_name1 = \"user\"\n",
    "password1 = \"123\"\n",
    "user_name = input(\"user name: \")\n",
    "password = input(\"password: \")\n",
    "if user_name == user_name1 and password == password1:\n",
    "  print(\"Login\")\n",
    "elif user_name != user_name1 and password != password1:\n",
    "  print(\"Error! user name and password\")\n",
    "elif user_name != user_name1:\n",
    "  print(\"Error! user_name\")\n",
    "else:\n",
    "  print(\"Error! Password\")"
   ]
  },
  {
   "cell_type": "code",
   "execution_count": null,
   "metadata": {},
   "outputs": [],
   "source": [
    "score = 12\n",
    "if score < 0 or score > 20:\n",
    "  print(\"out of range!\")\n",
    "elif score >= 17:\n",
    "  print(\"A++\")\n",
    "elif score >= 15:\n",
    "  print(\"A+\")\n",
    "elif score >= 10:\n",
    "  print(\"A\")\n",
    "else:\n",
    "  print(\"B\")"
   ]
  },
  {
   "cell_type": "code",
   "execution_count": 18,
   "metadata": {},
   "outputs": [
    {
     "name": "stdout",
     "output_type": "stream",
     "text": [
      "math 17.0\n",
      "python 19.0\n"
     ]
    }
   ],
   "source": [
    "score1 = float(input(\"score: \"))\n",
    "course1 = input(\"course: \")\n",
    "score2 = float(input(\"score: \"))\n",
    "course2 = input(\"course: \")\n",
    "score3 = float(input(\"score: \"))\n",
    "course3 = input(\"course: \")\n",
    "if score1 >= 10:\n",
    "  print(course1, score1)\n",
    "if score2 >= 10:\n",
    "  print(course2, score2)\n",
    "if score3 >= 10:\n",
    "  print(course3, score3)"
   ]
  },
  {
   "cell_type": "code",
   "execution_count": 19,
   "metadata": {},
   "outputs": [
    {
     "name": "stdout",
     "output_type": "stream",
     "text": [
      "17\n"
     ]
    }
   ],
   "source": [
    "score1 = 12\n",
    "score2 = 15\n",
    "score3 = 17\n",
    "if score1 > score2 and score1 > score3 :\n",
    "  print(score1)\n",
    "elif score2 > score1 and score2 > score3 :\n",
    "  print(score2)\n",
    "else:\n",
    "  print(score3)"
   ]
  },
  {
   "cell_type": "code",
   "execution_count": 25,
   "metadata": {},
   "outputs": [
    {
     "name": "stdout",
     "output_type": "stream",
     "text": [
      "java 17\n"
     ]
    }
   ],
   "source": [
    "score1 = 12\n",
    "course1 = \"math\"\n",
    "score2 = 15\n",
    "course2 = \"python\"\n",
    "score3 = 17\n",
    "course3 = \"java\"\n",
    "max_score = score1 # max_score = 12\n",
    "course = course1\n",
    "if max_score < score2: # 12 < 15 ===> True\n",
    "  course = course2\n",
    "  max_score = score2 # max_score = 15\n",
    "if max_score < score3:\n",
    "  course = course3\n",
    "  max_score = score3\n",
    "print(course ,max_score)"
   ]
  },
  {
   "cell_type": "code",
   "execution_count": 29,
   "metadata": {},
   "outputs": [
    {
     "name": "stdout",
     "output_type": "stream",
     "text": [
      "F\n"
     ]
    }
   ],
   "source": [
    "number = int(input(\"your number: \")) # number = 12\n",
    "if number % 2 == 0 and number % 3 == 0:\n",
    "  print(\"FB\")\n",
    "elif number % 2 == 0: # 12 % 2 == 0 ====> True\n",
    "  print(\"F\")\n",
    "elif number % 3 == 0:\n",
    "  print(\"B\")\n",
    "else:\n",
    "  print(number)"
   ]
  },
  {
   "cell_type": "code",
   "execution_count": 30,
   "metadata": {},
   "outputs": [
    {
     "name": "stdout",
     "output_type": "stream",
     "text": [
      "2\n"
     ]
    }
   ],
   "source": [
    "num1 = 12.5\n",
    "num2 = \"18\""
   ]
  },
  {
   "cell_type": "markdown",
   "metadata": {},
   "source": [
    "### "
   ]
  }
 ],
 "metadata": {
  "kernelspec": {
   "display_name": "base",
   "language": "python",
   "name": "python3"
  },
  "language_info": {
   "codemirror_mode": {
    "name": "ipython",
    "version": 3
   },
   "file_extension": ".py",
   "mimetype": "text/x-python",
   "name": "python",
   "nbconvert_exporter": "python",
   "pygments_lexer": "ipython3",
   "version": "3.9.13"
  },
  "orig_nbformat": 4
 },
 "nbformat": 4,
 "nbformat_minor": 2
}
