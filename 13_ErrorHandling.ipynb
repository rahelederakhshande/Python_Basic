{
 "cells": [
  {
   "cell_type": "code",
   "execution_count": 48,
   "metadata": {},
   "outputs": [
    {
     "name": "stdout",
     "output_type": "stream",
     "text": [
      "NameError\n",
      "end\n"
     ]
    }
   ],
   "source": [
    "x = 2\n",
    "y = 3\n",
    "try:\n",
    "  res = x / h\n",
    "  print(res)\n",
    "except Exception as e:\n",
    "  print(e.__class__.__name__)\n",
    "print(\"end\")"
   ]
  },
  {
   "cell_type": "code",
   "execution_count": 12,
   "metadata": {},
   "outputs": [
    {
     "name": "stdout",
     "output_type": "stream",
     "text": [
      "NameError name 'h' is not defined\n",
      "end\n"
     ]
    }
   ],
   "source": [
    "x = 2\n",
    "y = 10\n",
    "try:\n",
    "  res = x / h \n",
    "  print(res)\n",
    "except Exception as e:\n",
    "  print(e.__class__.__name__, e)\n",
    "print(\"end\")"
   ]
  },
  {
   "cell_type": "code",
   "execution_count": 14,
   "metadata": {},
   "outputs": [
    {
     "ename": "NameError",
     "evalue": "name 'h' is not defined",
     "output_type": "error",
     "traceback": [
      "\u001b[0;31m---------------------------------------------------------------------------\u001b[0m",
      "\u001b[0;31mNameError\u001b[0m                                 Traceback (most recent call last)",
      "\u001b[0;32m/tmp/ipykernel_4937/2433252269.py\u001b[0m in \u001b[0;36m<module>\u001b[0;34m\u001b[0m\n\u001b[1;32m      2\u001b[0m \u001b[0my\u001b[0m \u001b[0;34m=\u001b[0m \u001b[0;36m0\u001b[0m\u001b[0;34m\u001b[0m\u001b[0;34m\u001b[0m\u001b[0m\n\u001b[1;32m      3\u001b[0m \u001b[0;32mtry\u001b[0m\u001b[0;34m:\u001b[0m\u001b[0;34m\u001b[0m\u001b[0;34m\u001b[0m\u001b[0m\n\u001b[0;32m----> 4\u001b[0;31m   \u001b[0mres\u001b[0m \u001b[0;34m=\u001b[0m \u001b[0mx\u001b[0m \u001b[0;34m/\u001b[0m \u001b[0mh\u001b[0m\u001b[0;34m\u001b[0m\u001b[0;34m\u001b[0m\u001b[0m\n\u001b[0m\u001b[1;32m      5\u001b[0m   \u001b[0mprint\u001b[0m\u001b[0;34m(\u001b[0m\u001b[0mres\u001b[0m\u001b[0;34m)\u001b[0m\u001b[0;34m\u001b[0m\u001b[0;34m\u001b[0m\u001b[0m\n\u001b[1;32m      6\u001b[0m \u001b[0;32mexcept\u001b[0m \u001b[0mZeroDivisionError\u001b[0m \u001b[0;32mas\u001b[0m \u001b[0me\u001b[0m\u001b[0;34m:\u001b[0m\u001b[0;34m\u001b[0m\u001b[0;34m\u001b[0m\u001b[0m\n",
      "\u001b[0;31mNameError\u001b[0m: name 'h' is not defined"
     ]
    }
   ],
   "source": [
    "x = 2\n",
    "y = 0\n",
    "try:\n",
    "  res = x / h \n",
    "  print(res)\n",
    "except ZeroDivisionError as e:\n",
    "  print(e.__class__.__name__, e)\n",
    "print(\"end\")"
   ]
  },
  {
   "cell_type": "code",
   "execution_count": 33,
   "metadata": {},
   "outputs": [],
   "source": [
    "def f2(list1, i, j):\n",
    "  #res = list1[i] / list1[j] #IndexError,Zero,Value,Type\n",
    "  try:\n",
    "    res = list1[i] / list1[j]\n",
    "    print(res)\n",
    "  except IndexError as e1:\n",
    "    print(e1)\n",
    "  except ZeroDivisionError as e2:\n",
    "    print(e2)\n",
    "  except ValueError as e3:\n",
    "    print(e3)\n",
    "  except:\n",
    "    print(\"error\")\n",
    "  "
   ]
  },
  {
   "cell_type": "code",
   "execution_count": 34,
   "metadata": {},
   "outputs": [
    {
     "name": "stdout",
     "output_type": "stream",
     "text": [
      "list index out of range\n"
     ]
    }
   ],
   "source": [
    "f2([3, 12, 0], 5, 2)"
   ]
  },
  {
   "cell_type": "code",
   "execution_count": 38,
   "metadata": {},
   "outputs": [],
   "source": [
    "def f1(list1, i, j):\n",
    "  #res = list1[i] / list1[j] #IndexError,Zero,Value,Type\n",
    "  try:\n",
    "    res = list1[i] / list1[j]\n",
    "    print(res)\n",
    "  except (IndexError, ZeroDivisionError) as e1:\n",
    "    print(e1)\n",
    "  except:\n",
    "    print(\"error\")"
   ]
  },
  {
   "cell_type": "code",
   "execution_count": 39,
   "metadata": {},
   "outputs": [
    {
     "name": "stdout",
     "output_type": "stream",
     "text": [
      "list index out of range\n"
     ]
    }
   ],
   "source": [
    "f1([2, 3, 0], 4 , 2)"
   ]
  },
  {
   "cell_type": "code",
   "execution_count": 50,
   "metadata": {},
   "outputs": [
    {
     "name": "stdout",
     "output_type": "stream",
     "text": [
      "Error\n",
      "end\n"
     ]
    }
   ],
   "source": [
    "x = 20\n",
    "y = 0\n",
    "try:\n",
    "  res2 = x / y\n",
    "except ZeroDivisionError:\n",
    "  print(\"Error\")\n",
    "else:\n",
    "  print(res2)\n",
    "finally:\n",
    "  print(\"end\")\n"
   ]
  },
  {
   "cell_type": "code",
   "execution_count": 18,
   "metadata": {},
   "outputs": [
    {
     "name": "stdout",
     "output_type": "stream",
     "text": [
      "[Errno 2] No such file or directory: 'f_2.txt'\n",
      "{'__name__': '__main__', '__doc__': 'Automatically created module for IPython interactive environment', '__package__': None, '__loader__': None, '__spec__': None, '__builtin__': <module 'builtins' (built-in)>, '__builtins__': <module 'builtins' (built-in)>, '_ih': ['', 'file = open(\"f.txt\", \"r\")\\ndata = file.read()\\nfile.close()\\nprint(data)', 'file = open(\"f.txt\", \"r\")\\ndata = file.write(\"f\")\\nfile.close()\\nprint(data)', 'file = open(\"f_1.txt\", \"r\")\\ndata = file.read()\\nfile.close()\\nprint(data)', 'try:\\n  file1 = open(\"f.txt\", \"r\")\\n  data = file1.read()\\n  print(data)\\nexcept OSError as e:\\n  print(e)', 'try:\\n  file1 = open(\"f3.txt\", \"r\")\\n  data = file1.read()\\n  print(data)\\nexcept OSError as e:\\n  print(e)', 'try:\\n  file1 = open(\"f3.txt\", \"r\")\\n  data = file1.read()\\n  print(data)\\n  file1.close()\\nexcept OSError as e:\\n  print(e)', 'try:\\n  file1 = open(\"f.txt\", \"r\")\\n  data = file1.write(\"c++\")\\n  print(data)\\n  file1.close()\\nexcept OSError as e:\\n  print(e)', 'try:\\n  file1 = open(\"f.txt\", \"r\")\\n  data = file1.write(\"c++\")\\n  print(data)\\nexcept OSError as e:\\n  print(e)\\nfinally:\\n  print(file1.closed)\\n  file1.close()', 'try:\\n  file1 = open(\"f.txt\", \"r\")\\n  data = file1.write(\"c++\")\\n  print(data)\\nexcept OSError as e:\\n  print(e)\\nfinally:\\n  print(file1.closed)\\n  file1.close()\\n  print(file1.closed)', 'try:\\n  file1 = open(\"f.txt\", \"r\")\\n  data = file1.read()\\n  print(data)\\nexcept OSError as e:\\n  print(e)\\nfinally:\\n  print(file1.closed)\\n  file1.close()\\n  print(file1.closed)', 'try:\\n  file2 = open(\"f_2.txt\", \"r\")\\n  data = file2.read()\\n  print(data)\\nexcept OSError as e:\\n  print(e)\\nfinally:\\n  file2.close()', 'file2 = None\\ntry:\\n  file2 = open(\"f_2.txt\", \"r\")\\n  data = file2.read()\\n  print(data)\\nexcept OSError as e:\\n  print(e)\\nfinally:\\n  if not file2:\\n    file2.close()', 'file2 = None\\ntry:\\n  file2 = open(\"f_2.txt\", \"r\")\\n  data = file2.read()\\n  print(data)\\nexcept OSError as e:\\n  print(e)\\nfinally:\\n  if not file2:\\n    file2.close()', 'file2 = None\\ntry:\\n  file2 = open(\"f_2.txt\", \"r\")\\n  data = file2.read()\\n  print(data)\\nexcept OSError as e:\\n  print(e)\\nfinally:\\n  if file2:\\n    file2.close()', 'def function1():\\n  x = 10\\n  y = 20\\n  print(locals())\\nfunction1()', 'try:\\n  file2 = open(\"f_2.txt\", \"r\")\\n  data = file2.read()\\n  print(data)\\nexcept OSError as e:\\n  print(e)\\nfinally:\\n  if \\'file2\\' in locals():\\n    file2.close()', 'try:\\n  file3 = open(\"f_2.txt\", \"r\")\\n  data = file3.read()\\n  print(data)\\nexcept OSError as e:\\n  print(e)\\nfinally:\\n  if \\'file3\\' in locals():\\n    file3.close()', 'try:\\n  file3 = open(\"f_2.txt\", \"r\")\\n  data = file3.read()\\n  print(data)\\nexcept OSError as e:\\n  print(e)\\nfinally:\\n  if \\'file3\\' in locals():\\n    file3.close()\\nprint(locals())'], '_oh': {}, '_dh': ['/home/zahra/Desktop'], 'In': ['', 'file = open(\"f.txt\", \"r\")\\ndata = file.read()\\nfile.close()\\nprint(data)', 'file = open(\"f.txt\", \"r\")\\ndata = file.write(\"f\")\\nfile.close()\\nprint(data)', 'file = open(\"f_1.txt\", \"r\")\\ndata = file.read()\\nfile.close()\\nprint(data)', 'try:\\n  file1 = open(\"f.txt\", \"r\")\\n  data = file1.read()\\n  print(data)\\nexcept OSError as e:\\n  print(e)', 'try:\\n  file1 = open(\"f3.txt\", \"r\")\\n  data = file1.read()\\n  print(data)\\nexcept OSError as e:\\n  print(e)', 'try:\\n  file1 = open(\"f3.txt\", \"r\")\\n  data = file1.read()\\n  print(data)\\n  file1.close()\\nexcept OSError as e:\\n  print(e)', 'try:\\n  file1 = open(\"f.txt\", \"r\")\\n  data = file1.write(\"c++\")\\n  print(data)\\n  file1.close()\\nexcept OSError as e:\\n  print(e)', 'try:\\n  file1 = open(\"f.txt\", \"r\")\\n  data = file1.write(\"c++\")\\n  print(data)\\nexcept OSError as e:\\n  print(e)\\nfinally:\\n  print(file1.closed)\\n  file1.close()', 'try:\\n  file1 = open(\"f.txt\", \"r\")\\n  data = file1.write(\"c++\")\\n  print(data)\\nexcept OSError as e:\\n  print(e)\\nfinally:\\n  print(file1.closed)\\n  file1.close()\\n  print(file1.closed)', 'try:\\n  file1 = open(\"f.txt\", \"r\")\\n  data = file1.read()\\n  print(data)\\nexcept OSError as e:\\n  print(e)\\nfinally:\\n  print(file1.closed)\\n  file1.close()\\n  print(file1.closed)', 'try:\\n  file2 = open(\"f_2.txt\", \"r\")\\n  data = file2.read()\\n  print(data)\\nexcept OSError as e:\\n  print(e)\\nfinally:\\n  file2.close()', 'file2 = None\\ntry:\\n  file2 = open(\"f_2.txt\", \"r\")\\n  data = file2.read()\\n  print(data)\\nexcept OSError as e:\\n  print(e)\\nfinally:\\n  if not file2:\\n    file2.close()', 'file2 = None\\ntry:\\n  file2 = open(\"f_2.txt\", \"r\")\\n  data = file2.read()\\n  print(data)\\nexcept OSError as e:\\n  print(e)\\nfinally:\\n  if not file2:\\n    file2.close()', 'file2 = None\\ntry:\\n  file2 = open(\"f_2.txt\", \"r\")\\n  data = file2.read()\\n  print(data)\\nexcept OSError as e:\\n  print(e)\\nfinally:\\n  if file2:\\n    file2.close()', 'def function1():\\n  x = 10\\n  y = 20\\n  print(locals())\\nfunction1()', 'try:\\n  file2 = open(\"f_2.txt\", \"r\")\\n  data = file2.read()\\n  print(data)\\nexcept OSError as e:\\n  print(e)\\nfinally:\\n  if \\'file2\\' in locals():\\n    file2.close()', 'try:\\n  file3 = open(\"f_2.txt\", \"r\")\\n  data = file3.read()\\n  print(data)\\nexcept OSError as e:\\n  print(e)\\nfinally:\\n  if \\'file3\\' in locals():\\n    file3.close()', 'try:\\n  file3 = open(\"f_2.txt\", \"r\")\\n  data = file3.read()\\n  print(data)\\nexcept OSError as e:\\n  print(e)\\nfinally:\\n  if \\'file3\\' in locals():\\n    file3.close()\\nprint(locals())'], 'Out': {}, 'get_ipython': <bound method InteractiveShell.get_ipython of <ipykernel.zmqshell.ZMQInteractiveShell object at 0x7f9e6bcb0040>>, 'exit': <IPython.core.autocall.ZMQExitAutocall object at 0x7f9e6bcb0e20>, 'quit': <IPython.core.autocall.ZMQExitAutocall object at 0x7f9e6bcb0e20>, '_': '', '__': '', '___': '', '__vsc_ipynb_file__': '/home/zahra/Desktop/s13.ipynb', '_i': 'try:\\n  file3 = open(\"f_2.txt\", \"r\")\\n  data = file3.read()\\n  print(data)\\nexcept OSError as e:\\n  print(e)\\nfinally:\\n  if \\'file3\\' in locals():\\n    file3.close()', '_ii': 'try:\\n  file2 = open(\"f_2.txt\", \"r\")\\n  data = file2.read()\\n  print(data)\\nexcept OSError as e:\\n  print(e)\\nfinally:\\n  if \\'file2\\' in locals():\\n    file2.close()', '_iii': 'def function1():\\n  x = 10\\n  y = 20\\n  print(locals())\\nfunction1()', '_i1': 'file = open(\"f.txt\", \"r\")\\ndata = file.read()\\nfile.close()\\nprint(data)', 'file': <_io.TextIOWrapper name='f.txt' mode='r' encoding='UTF-8'>, 'data': 'python', '_i2': 'file = open(\"f.txt\", \"r\")\\ndata = file.write(\"f\")\\nfile.close()\\nprint(data)', '_i3': 'file = open(\"f_1.txt\", \"r\")\\ndata = file.read()\\nfile.close()\\nprint(data)', '_i4': 'try:\\n  file1 = open(\"f.txt\", \"r\")\\n  data = file1.read()\\n  print(data)\\nexcept OSError as e:\\n  print(e)', 'file1': <_io.TextIOWrapper name='f.txt' mode='r' encoding='UTF-8'>, '_i5': 'try:\\n  file1 = open(\"f3.txt\", \"r\")\\n  data = file1.read()\\n  print(data)\\nexcept OSError as e:\\n  print(e)', '_i6': 'try:\\n  file1 = open(\"f3.txt\", \"r\")\\n  data = file1.read()\\n  print(data)\\n  file1.close()\\nexcept OSError as e:\\n  print(e)', '_i7': 'try:\\n  file1 = open(\"f.txt\", \"r\")\\n  data = file1.write(\"c++\")\\n  print(data)\\n  file1.close()\\nexcept OSError as e:\\n  print(e)', '_i8': 'try:\\n  file1 = open(\"f.txt\", \"r\")\\n  data = file1.write(\"c++\")\\n  print(data)\\nexcept OSError as e:\\n  print(e)\\nfinally:\\n  print(file1.closed)\\n  file1.close()', '_i9': 'try:\\n  file1 = open(\"f.txt\", \"r\")\\n  data = file1.write(\"c++\")\\n  print(data)\\nexcept OSError as e:\\n  print(e)\\nfinally:\\n  print(file1.closed)\\n  file1.close()\\n  print(file1.closed)', '_i10': 'try:\\n  file1 = open(\"f.txt\", \"r\")\\n  data = file1.read()\\n  print(data)\\nexcept OSError as e:\\n  print(e)\\nfinally:\\n  print(file1.closed)\\n  file1.close()\\n  print(file1.closed)', '_i11': 'try:\\n  file2 = open(\"f_2.txt\", \"r\")\\n  data = file2.read()\\n  print(data)\\nexcept OSError as e:\\n  print(e)\\nfinally:\\n  file2.close()', '_i12': 'file2 = None\\ntry:\\n  file2 = open(\"f_2.txt\", \"r\")\\n  data = file2.read()\\n  print(data)\\nexcept OSError as e:\\n  print(e)\\nfinally:\\n  if not file2:\\n    file2.close()', 'file2': None, '_i13': 'file2 = None\\ntry:\\n  file2 = open(\"f_2.txt\", \"r\")\\n  data = file2.read()\\n  print(data)\\nexcept OSError as e:\\n  print(e)\\nfinally:\\n  if not file2:\\n    file2.close()', '_i14': 'file2 = None\\ntry:\\n  file2 = open(\"f_2.txt\", \"r\")\\n  data = file2.read()\\n  print(data)\\nexcept OSError as e:\\n  print(e)\\nfinally:\\n  if file2:\\n    file2.close()', '_i15': 'def function1():\\n  x = 10\\n  y = 20\\n  print(locals())\\nfunction1()', 'function1': <function function1 at 0x7f9e51e1a940>, '_i16': 'try:\\n  file2 = open(\"f_2.txt\", \"r\")\\n  data = file2.read()\\n  print(data)\\nexcept OSError as e:\\n  print(e)\\nfinally:\\n  if \\'file2\\' in locals():\\n    file2.close()', '_i17': 'try:\\n  file3 = open(\"f_2.txt\", \"r\")\\n  data = file3.read()\\n  print(data)\\nexcept OSError as e:\\n  print(e)\\nfinally:\\n  if \\'file3\\' in locals():\\n    file3.close()', '_i18': 'try:\\n  file3 = open(\"f_2.txt\", \"r\")\\n  data = file3.read()\\n  print(data)\\nexcept OSError as e:\\n  print(e)\\nfinally:\\n  if \\'file3\\' in locals():\\n    file3.close()\\nprint(locals())'}\n"
     ]
    }
   ],
   "source": [
    "try:\n",
    "  file3 = open(\"f_2.txt\", \"r\")\n",
    "  data = file3.read()\n",
    "  print(data)\n",
    "except OSError as e:\n",
    "  print(e)\n",
    "finally:\n",
    "  if 'file3' in locals():\n",
    "    file3.close()\n",
    "print(locals())"
   ]
  },
  {
   "cell_type": "code",
   "execution_count": 15,
   "metadata": {},
   "outputs": [
    {
     "name": "stdout",
     "output_type": "stream",
     "text": [
      "{'x': 10, 'y': 20}\n"
     ]
    }
   ],
   "source": [
    "def function1():\n",
    "  x = 10\n",
    "  y = 20\n",
    "  print(locals())\n",
    "function1()"
   ]
  },
  {
   "cell_type": "code",
   "execution_count": 19,
   "metadata": {},
   "outputs": [],
   "source": [
    "def login(username, password):\n",
    "  if not username or not password:\n",
    "    raise ValueError(\"username and password are required\")\n",
    "  print(\"logged in\")"
   ]
  },
  {
   "cell_type": "code",
   "execution_count": 21,
   "metadata": {},
   "outputs": [
    {
     "name": "stdout",
     "output_type": "stream",
     "text": [
      "username and password are required\n"
     ]
    }
   ],
   "source": [
    "try:\n",
    "  login(\"aa\", \"\")\n",
    "except ValueError as e:\n",
    "  print(e)"
   ]
  }
 ],
 "metadata": {
  "kernelspec": {
   "display_name": "base",
   "language": "python",
   "name": "python3"
  },
  "language_info": {
   "codemirror_mode": {
    "name": "ipython",
    "version": 3
   },
   "file_extension": ".py",
   "mimetype": "text/x-python",
   "name": "python",
   "nbconvert_exporter": "python",
   "pygments_lexer": "ipython3",
   "version": "3.9.13"
  },
  "orig_nbformat": 4
 },
 "nbformat": 4,
 "nbformat_minor": 2
}
