{
 "cells": [
  {
   "cell_type": "code",
   "execution_count": 3,
   "metadata": {},
   "outputs": [
    {
     "name": "stdout",
     "output_type": "stream",
     "text": [
      "0\n",
      "1\n",
      "2\n",
      "3\n",
      "4\n",
      "5\n",
      "6\n",
      "7\n",
      "8\n",
      "9\n"
     ]
    }
   ],
   "source": [
    "i=0\n",
    "while i < 10:\n",
    "    print(i)\n",
    "    i +=1"
   ]
  },
  {
   "cell_type": "code",
   "execution_count": 7,
   "metadata": {},
   "outputs": [
    {
     "name": "stdout",
     "output_type": "stream",
     "text": [
      "Python\n",
      "Python\n",
      "Python\n",
      "Python\n",
      "Python\n",
      "Python\n",
      "Python\n",
      "Python\n",
      "Python\n",
      "Python\n",
      "Python\n",
      "Python\n",
      "Python\n",
      "Python\n",
      "Python\n",
      "Python\n",
      "Python\n"
     ]
    }
   ],
   "source": [
    "flag = True\n",
    "i=0\n",
    "while flag:\n",
    "    print(\"Python\")\n",
    "    i +=3\n",
    "    if i > 50:\n",
    "        flag = False"
   ]
  },
  {
   "cell_type": "code",
   "execution_count": 8,
   "metadata": {},
   "outputs": [],
   "source": [
    "book={\"name\": \"python\", \"price\": 2000, \"year\" : 2010,\"author\": \"a1\"}"
   ]
  },
  {
   "cell_type": "code",
   "execution_count": 9,
   "metadata": {},
   "outputs": [],
   "source": [
    "book2={\n",
    "    \"name\": \"java\",\n",
    "    \"price\": 3000, \n",
    "    \"year\" : 2015,\n",
    "    \"author\": \"b1\"\n",
    "    }"
   ]
  },
  {
   "cell_type": "code",
   "execution_count": 10,
   "metadata": {},
   "outputs": [
    {
     "name": "stdout",
     "output_type": "stream",
     "text": [
      "<class 'dict'>\n"
     ]
    }
   ],
   "source": [
    "print(type(book))"
   ]
  },
  {
   "cell_type": "code",
   "execution_count": 11,
   "metadata": {},
   "outputs": [
    {
     "name": "stdout",
     "output_type": "stream",
     "text": [
      "2000\n"
     ]
    }
   ],
   "source": [
    "print(book[\"price\"])"
   ]
  },
  {
   "cell_type": "code",
   "execution_count": 13,
   "metadata": {},
   "outputs": [
    {
     "name": "stdout",
     "output_type": "stream",
     "text": [
      "java\n"
     ]
    }
   ],
   "source": [
    "print(book2.get(\"name\"))"
   ]
  },
  {
   "cell_type": "code",
   "execution_count": 14,
   "metadata": {},
   "outputs": [
    {
     "name": "stdout",
     "output_type": "stream",
     "text": [
      "b1\n"
     ]
    }
   ],
   "source": [
    "print(book2[\"author\"])"
   ]
  },
  {
   "cell_type": "code",
   "execution_count": 17,
   "metadata": {},
   "outputs": [
    {
     "name": "stdout",
     "output_type": "stream",
     "text": [
      "Not found\n"
     ]
    }
   ],
   "source": [
    "print(book.get(\"pages\" , \"Not found\"))"
   ]
  },
  {
   "cell_type": "code",
   "execution_count": 18,
   "metadata": {},
   "outputs": [
    {
     "name": "stdout",
     "output_type": "stream",
     "text": [
      "{'name': 'python', 'price': 2000, 'year': 2010, 'author': 'a1', 'pages': 1200}\n"
     ]
    }
   ],
   "source": [
    "book[\"pages\"]=1200\n",
    "print(book)"
   ]
  },
  {
   "cell_type": "code",
   "execution_count": 19,
   "metadata": {},
   "outputs": [
    {
     "name": "stdout",
     "output_type": "stream",
     "text": [
      "{'name': 'python', 'price': 2000, 'year': 2010, 'author': 'a1', 'pages': 1200, 'language': 'English', 'store': 'p1'}\n"
     ]
    }
   ],
   "source": [
    "book.update({\"language\" : \"English\", \"store\" : \"p1\"})\n",
    "print(book)"
   ]
  },
  {
   "cell_type": "code",
   "execution_count": 20,
   "metadata": {},
   "outputs": [
    {
     "name": "stdout",
     "output_type": "stream",
     "text": [
      "{'name': 'java', 'price': 3000, 'year': 2015, 'author': 'b1', 'pages': 1200, 'language': 'English', 'store': 'p1'}\n"
     ]
    }
   ],
   "source": [
    "book.update(book2)\n",
    "print(book)"
   ]
  },
  {
   "cell_type": "code",
   "execution_count": 24,
   "metadata": {},
   "outputs": [
    {
     "name": "stdout",
     "output_type": "stream",
     "text": [
      "{'price': 3000, 'year': 2015, 'author': 'b1', 'pages': 1200, 'language': 'English', 'store': 'p1', 'name': 'C++'}\n"
     ]
    }
   ],
   "source": [
    "book[\"name\"]=\"C++\"\n",
    "print(book)"
   ]
  },
  {
   "cell_type": "code",
   "execution_count": 25,
   "metadata": {},
   "outputs": [
    {
     "name": "stdout",
     "output_type": "stream",
     "text": [
      "C++\n",
      "{'price': 3000, 'year': 2015, 'author': 'b1', 'pages': 1200, 'language': 'English', 'store': 'p1'}\n"
     ]
    }
   ],
   "source": [
    "name=book.pop(\"name\")\n",
    "print(name)\n",
    "print(book)"
   ]
  },
  {
   "cell_type": "code",
   "execution_count": 29,
   "metadata": {},
   "outputs": [
    {
     "name": "stdout",
     "output_type": "stream",
     "text": [
      "Not Found\n",
      "{'price': 3000, 'year': 2015, 'author': 'b1', 'pages': 1200, 'language': 'English', 'store': 'p1'}\n"
     ]
    }
   ],
   "source": [
    "name=book.pop(\"data\" ,\"Not Found\")\n",
    "print(name)\n",
    "print(book)"
   ]
  },
  {
   "cell_type": "code",
   "execution_count": 31,
   "metadata": {},
   "outputs": [
    {
     "name": "stdout",
     "output_type": "stream",
     "text": [
      "('language', 'English')\n",
      "{'price': 3000, 'year': 2015, 'author': 'b1', 'pages': 1200}\n"
     ]
    }
   ],
   "source": [
    "item= book.popitem()\n",
    "print(item)\n",
    "print(book)"
   ]
  },
  {
   "cell_type": "code",
   "execution_count": 32,
   "metadata": {},
   "outputs": [
    {
     "name": "stdout",
     "output_type": "stream",
     "text": [
      "{'year': 2015, 'author': 'b1', 'pages': 1200}\n"
     ]
    }
   ],
   "source": [
    "del book[\"price\"]\n",
    "print(book)"
   ]
  },
  {
   "cell_type": "code",
   "execution_count": 33,
   "metadata": {},
   "outputs": [
    {
     "name": "stdout",
     "output_type": "stream",
     "text": [
      "{}\n"
     ]
    }
   ],
   "source": [
    "book.clear()\n",
    "print(book)"
   ]
  },
  {
   "cell_type": "code",
   "execution_count": 1,
   "metadata": {},
   "outputs": [],
   "source": [
    "book = {\n",
    "    \"name\": \"python\",\n",
    "    \"price\": 2000, \n",
    "    \"year\" : 2010,\n",
    "    \"author\": \"a1\",\n",
    "    \"shop\":[\"store1\" , \"store2\" , \"store3\"]\n",
    "    }"
   ]
  },
  {
   "cell_type": "code",
   "execution_count": 2,
   "metadata": {},
   "outputs": [
    {
     "name": "stdout",
     "output_type": "stream",
     "text": [
      "store2\n"
     ]
    }
   ],
   "source": [
    "print(book[\"shop\"][1])"
   ]
  },
  {
   "cell_type": "code",
   "execution_count": 38,
   "metadata": {},
   "outputs": [
    {
     "name": "stdout",
     "output_type": "stream",
     "text": [
      "['name', 'price', 'year', 'author']\n"
     ]
    }
   ],
   "source": [
    "book_keys=list(book.keys())\n",
    "print(book_keys)"
   ]
  },
  {
   "cell_type": "code",
   "execution_count": 39,
   "metadata": {},
   "outputs": [
    {
     "name": "stdout",
     "output_type": "stream",
     "text": [
      "dict_keys(['name', 'price', 'year', 'author'])\n"
     ]
    }
   ],
   "source": [
    "book_keys=book.keys()\n",
    "print(book_keys)"
   ]
  },
  {
   "cell_type": "code",
   "execution_count": 40,
   "metadata": {},
   "outputs": [
    {
     "name": "stdout",
     "output_type": "stream",
     "text": [
      "['python', 2000, 2010, 'a1']\n"
     ]
    }
   ],
   "source": [
    "book_values= list(book.values())\n",
    "print(book_values)"
   ]
  },
  {
   "cell_type": "code",
   "execution_count": 41,
   "metadata": {},
   "outputs": [
    {
     "name": "stdout",
     "output_type": "stream",
     "text": [
      "[('name', 'python'), ('price', 2000), ('year', 2010), ('author', 'a1')]\n"
     ]
    }
   ],
   "source": [
    "book_items= list(book.items())\n",
    "print(book_items)"
   ]
  },
  {
   "cell_type": "code",
   "execution_count": 46,
   "metadata": {},
   "outputs": [
    {
     "name": "stdout",
     "output_type": "stream",
     "text": [
      "yes\n"
     ]
    }
   ],
   "source": [
    "if (\"name\" ,\"python\") in book_items:\n",
    "    print(\"yes\")\n",
    "else:\n",
    "    print(\"no\")"
   ]
  },
  {
   "cell_type": "code",
   "execution_count": 60,
   "metadata": {},
   "outputs": [],
   "source": [
    "book1 = {\n",
    "    \"name\": \"python\",\n",
    "     \"price\": 2000, \n",
    "     \"year\" : 2010,\n",
    "     \"author\": \"a1\",\n",
    "     \"shop\":[\"store1\" , \"store2\" , \"store3\"]\n",
    "     }"
   ]
  },
  {
   "cell_type": "code",
   "execution_count": 58,
   "metadata": {},
   "outputs": [
    {
     "name": "stdout",
     "output_type": "stream",
     "text": [
      "name python\n",
      "price 2000\n",
      "year 2010\n",
      "author a1\n",
      "shop ['store1', 'store2', 'store3']\n"
     ]
    }
   ],
   "source": [
    "for k,v in book.items():\n",
    "    print(k,v)"
   ]
  },
  {
   "cell_type": "code",
   "execution_count": 65,
   "metadata": {},
   "outputs": [
    {
     "name": "stdout",
     "output_type": "stream",
     "text": [
      "[{'name': 'python', 'price': 2000, 'year': 2010, 'author': 'a1', 'shop': ['store1', 'store2', 'store3']}, {'name': 'java', 'price': 3000, 'year': 2015, 'author': 'b1'}]\n",
      "4\n"
     ]
    }
   ],
   "source": [
    "books=[book1,book2]\n",
    "print(books)\n",
    "print(len(book2))"
   ]
  },
  {
   "cell_type": "code",
   "execution_count": 67,
   "metadata": {},
   "outputs": [
    {
     "name": "stdout",
     "output_type": "stream",
     "text": [
      "2000\n"
     ]
    }
   ],
   "source": [
    "first_book=books[0]\n",
    "price=first_book[\"price\"]\n",
    "print(price)"
   ]
  },
  {
   "cell_type": "code",
   "execution_count": 68,
   "metadata": {},
   "outputs": [
    {
     "name": "stdout",
     "output_type": "stream",
     "text": [
      "2000\n"
     ]
    }
   ],
   "source": [
    "first_book_price=books[0][\"price\"]\n",
    "print(first_book_price)"
   ]
  },
  {
   "cell_type": "code",
   "execution_count": 1,
   "metadata": {},
   "outputs": [
    {
     "name": "stdout",
     "output_type": "stream",
     "text": [
      "{'name': 'python', 'price': 2000, 'year': 2015}\n"
     ]
    }
   ],
   "source": [
    "total_books=[]\n",
    "for i in range(2):\n",
    "    name=input(\"Name Of Book: \")\n",
    "    price=int(input(\"Price of Book: \"))\n",
    "    year=int(input(\"Year Of Book: \"))\n",
    "    book={}\n",
    "    book[\"name\"]=name\n",
    "    book[\"price\"]=price\n",
    "    book[\"year\"]=year\n",
    "    total_books.append(book)\n",
    "print(total_books[1])"
   ]
  },
  {
   "cell_type": "code",
   "execution_count": 2,
   "metadata": {},
   "outputs": [],
   "source": [
    "book1 = {\n",
    "    \"name\": \"python\",\n",
    "     \"price\": 2000, \n",
    "     \"year\" : 2010,\n",
    "     \"author\": \"a1\",\n",
    "     \"shop\":[\"store1\" , \"store2\" , \"store3\"]\n",
    "     }\n",
    "book2={\n",
    "    \"name\": \"java\",\n",
    "    \"price\": 3000, \n",
    "    \"year\" : 2015,\n",
    "    \"author\": \"b1\"\n",
    "    }"
   ]
  },
  {
   "cell_type": "code",
   "execution_count": 6,
   "metadata": {},
   "outputs": [
    {
     "name": "stdout",
     "output_type": "stream",
     "text": [
      "{'name': 'java', 'price': 3000, 'year': 2015, 'author': 'b1'}\n"
     ]
    }
   ],
   "source": [
    "books={\n",
    "    \"python\":book1,\n",
    "    \"java\":book2\n",
    "}\n",
    "print(books[\"java\"])"
   ]
  },
  {
   "cell_type": "code",
   "execution_count": null,
   "metadata": {},
   "outputs": [],
   "source": []
  }
 ],
 "metadata": {
  "kernelspec": {
   "display_name": "Python 3",
   "language": "python",
   "name": "python3"
  },
  "language_info": {
   "codemirror_mode": {
    "name": "ipython",
    "version": 3
   },
   "file_extension": ".py",
   "mimetype": "text/x-python",
   "name": "python",
   "nbconvert_exporter": "python",
   "pygments_lexer": "ipython3",
   "version": "3.12.0"
  }
 },
 "nbformat": 4,
 "nbformat_minor": 2
}
