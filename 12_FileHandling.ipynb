{
 "cells": [
  {
   "cell_type": "code",
   "execution_count": null,
   "metadata": {},
   "outputs": [],
   "source": [
    "# step1: path   XXXXXXX\n",
    "# step2: find all files  xxxxxxxx\n",
    "# step3: find exts   XXXXXXX\n",
    "# step4: create folder based on exts   XXXXXXXXX\n",
    "# step5: cut files\n",
    "    ## step1: read a file  xxxxxxxxxxxx\n",
    "    ## step2: write to the new path  xxxxxxxxxxx\n",
    "    ## step3: remove file from old path"
   ]
  },
  {
   "cell_type": "code",
   "execution_count": 10,
   "metadata": {},
   "outputs": [],
   "source": [
    "import os"
   ]
  },
  {
   "cell_type": "code",
   "execution_count": 6,
   "metadata": {},
   "outputs": [],
   "source": [
    "def find_files(path):\n",
    "  files_with_path = []\n",
    "  for p, dirs, files in os.walk(path):\n",
    "    for f in files:\n",
    "      f_path = os.path.join(p, f)\n",
    "      files_with_path.append(f_path)\n",
    "  return files_with_path"
   ]
  },
  {
   "cell_type": "code",
   "execution_count": 7,
   "metadata": {},
   "outputs": [],
   "source": [
    "def find_file_exts(files):\n",
    "  exts = set()\n",
    "  for f in files:\n",
    "    ext = f.split(\".\")[-1]\n",
    "    exts.add(ext)\n",
    "  return exts"
   ]
  },
  {
   "cell_type": "code",
   "execution_count": 2,
   "metadata": {},
   "outputs": [],
   "source": [
    "def create_dirs(path, exts):\n",
    "  for x in exts:\n",
    "    name = f\"folder_{x}\"\n",
    "    new_path = os.path.join(path, name)\n",
    "    os.mkdir(name)"
   ]
  },
  {
   "cell_type": "code",
   "execution_count": 8,
   "metadata": {},
   "outputs": [],
   "source": [
    "def cut_files(path, files):\n",
    "  for f in files:\n",
    "    # read files ===> f\n",
    "    with open(f, \"r\") as f_read:\n",
    "      data = f_read.read()\n",
    "    # write files =====> data\n",
    "    name = os.path.basename(f) # oop.py\n",
    "    # /home/zahra/Desktop/Files/folder_py/oop.py\n",
    "    ext = name.split(\".\")[-1] # [\"oop\", \"py\"] ===> py\n",
    "    name_dir = f\"folder_{ext}\" # folder_py\n",
    "    new_path = os.path.join(path, name_dir, name)\n",
    "    with open(new_path, \"w\") as f_write:\n",
    "      f_write(data)\n",
    "    os.remove(f)\n",
    "    "
   ]
  },
  {
   "cell_type": "code",
   "execution_count": 4,
   "metadata": {},
   "outputs": [],
   "source": [
    "path = \"/home/zahra/Desktop/Files\""
   ]
  },
  {
   "cell_type": "code",
   "execution_count": 11,
   "metadata": {},
   "outputs": [
    {
     "name": "stdout",
     "output_type": "stream",
     "text": [
      "[]\n"
     ]
    }
   ],
   "source": [
    "files = find_files(path)\n",
    "print(files)"
   ]
  },
  {
   "cell_type": "code",
   "execution_count": 13,
   "metadata": {},
   "outputs": [
    {
     "name": "stdout",
     "output_type": "stream",
     "text": [
      "set()\n"
     ]
    }
   ],
   "source": [
    "exts = find_file_exts(files)\n",
    "print(exts)"
   ]
  },
  {
   "cell_type": "code",
   "execution_count": 14,
   "metadata": {},
   "outputs": [],
   "source": [
    "create_dirs(path, exts)"
   ]
  },
  {
   "cell_type": "code",
   "execution_count": 15,
   "metadata": {},
   "outputs": [],
   "source": [
    "cut_files(path, files)"
   ]
  }
 ],
 "metadata": {
  "kernelspec": {
   "display_name": "base",
   "language": "python",
   "name": "python3"
  },
  "language_info": {
   "codemirror_mode": {
    "name": "ipython",
    "version": 3
   },
   "file_extension": ".py",
   "mimetype": "text/x-python",
   "name": "python",
   "nbconvert_exporter": "python",
   "pygments_lexer": "ipython3",
   "version": "3.12.0"
  },
  "orig_nbformat": 4
 },
 "nbformat": 4,
 "nbformat_minor": 2
}
