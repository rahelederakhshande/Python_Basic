{
 "cells": [
  {
   "cell_type": "markdown",
   "metadata": {},
   "source": [
    "### Tuple"
   ]
  },
  {
   "cell_type": "code",
   "execution_count": 3,
   "metadata": {},
   "outputs": [
    {
     "name": "stdout",
     "output_type": "stream",
     "text": [
      "(3, 12, 14, 45)\n",
      "<class 'tuple'>\n"
     ]
    }
   ],
   "source": [
    "t1=(3,12,14,45)\n",
    "print(t1)\n",
    "print(type(t1))"
   ]
  },
  {
   "cell_type": "code",
   "execution_count": 12,
   "metadata": {},
   "outputs": [
    {
     "name": "stdout",
     "output_type": "stream",
     "text": [
      "<class 'tuple'>\n",
      "1\n"
     ]
    }
   ],
   "source": [
    "t1=(20 ,)\n",
    "print(type(t1))\n",
    "print(len(t1))"
   ]
  },
  {
   "cell_type": "code",
   "execution_count": 6,
   "metadata": {},
   "outputs": [
    {
     "name": "stdout",
     "output_type": "stream",
     "text": [
      "<class 'tuple'>\n"
     ]
    }
   ],
   "source": [
    "t2=tuple()\n",
    "print(type(t2))"
   ]
  },
  {
   "cell_type": "code",
   "execution_count": 22,
   "metadata": {},
   "outputs": [
    {
     "name": "stdout",
     "output_type": "stream",
     "text": [
      "<class 'tuple'>\n",
      "50\n",
      "20,30,40,50\n"
     ]
    }
   ],
   "source": [
    "t3=20,30,40,50\n",
    "print(type(t3))\n",
    "print(t3[-1])\n",
    "for x in t3[:3]:\n",
    "    print(x,end=\",\")\n",
    "print(t3[3])"
   ]
  },
  {
   "cell_type": "code",
   "execution_count": 34,
   "metadata": {},
   "outputs": [
    {
     "name": "stdout",
     "output_type": "stream",
     "text": [
      "yes\n",
      "1\n",
      "4\n",
      "[500, 30, 40, 50, 30, 30, 30, 200]\n"
     ]
    }
   ],
   "source": [
    "t3=20,30,40,50,30,30,30\n",
    "t3=list(t3)\n",
    "t3.append(200)\n",
    "t3.insert(1,400)\n",
    "t3[1]=500\n",
    "t3.remove(20)\n",
    "if 500 not in t3:\n",
    "    print(\"No\")\n",
    "else:\n",
    "    print(\"yes\")\n",
    "c=t3.count(30)\n",
    "index=t3.index(30)\n",
    "print(index)\n",
    "print(c)\n",
    "print(t3)"
   ]
  },
  {
   "cell_type": "code",
   "execution_count": 36,
   "metadata": {},
   "outputs": [
    {
     "name": "stdout",
     "output_type": "stream",
     "text": [
      "(20, 30, 30, 30, 30, 40, 50)\n"
     ]
    }
   ],
   "source": [
    "t3=20,30,40,50,30,30,30\n",
    "s=tuple(sorted(t3))\n",
    "print(s)"
   ]
  },
  {
   "cell_type": "code",
   "execution_count": 38,
   "metadata": {},
   "outputs": [
    {
     "name": "stdout",
     "output_type": "stream",
     "text": [
      "(20, 30, 30, 30, 30, 40, 50)\n"
     ]
    }
   ],
   "source": [
    "t3=20,30,40,50,30,30,30\n",
    "t3=list(t3)\n",
    "t3.sort()\n",
    "print(tuple(t3))"
   ]
  },
  {
   "cell_type": "code",
   "execution_count": 39,
   "metadata": {},
   "outputs": [],
   "source": [
    "def function(num1,num2):\n",
    "    res1=num1+num2\n",
    "    res2=num1-num2\n",
    "    res3=num1*num2\n",
    "    return res1,res2,res3"
   ]
  },
  {
   "cell_type": "code",
   "execution_count": 40,
   "metadata": {},
   "outputs": [
    {
     "name": "stdout",
     "output_type": "stream",
     "text": [
      "(12, 6, 27)\n"
     ]
    }
   ],
   "source": [
    "result= function(9,3)\n",
    "print(result)"
   ]
  },
  {
   "cell_type": "code",
   "execution_count": 44,
   "metadata": {},
   "outputs": [
    {
     "name": "stdout",
     "output_type": "stream",
     "text": [
      "12 13 [14, 15]\n"
     ]
    }
   ],
   "source": [
    "x,y,*z=(12,13,14,15)\n",
    "print(x,y,z)"
   ]
  },
  {
   "cell_type": "code",
   "execution_count": 45,
   "metadata": {},
   "outputs": [
    {
     "name": "stdout",
     "output_type": "stream",
     "text": [
      "12 [13, 14, 15, 16] 17\n"
     ]
    }
   ],
   "source": [
    "x,*y,z=(12,13,14,15,16,17)\n",
    "print(x,y,z)"
   ]
  },
  {
   "cell_type": "code",
   "execution_count": 46,
   "metadata": {},
   "outputs": [
    {
     "name": "stdout",
     "output_type": "stream",
     "text": [
      "[12, 13, 14, 15] 16 17\n"
     ]
    }
   ],
   "source": [
    "*x,y,z=(12,13,14,15,16,17)\n",
    "print(x,y,z)"
   ]
  },
  {
   "cell_type": "code",
   "execution_count": 1,
   "metadata": {},
   "outputs": [
    {
     "name": "stdout",
     "output_type": "stream",
     "text": [
      "(12, 16, 18, 20, 5000)\n"
     ]
    }
   ],
   "source": [
    "t1=(12,16,18,20)\n",
    "t2=(2,5,3)\n",
    "t3=t1 + (5000,)\n",
    "#del t3\n",
    "print(t3)"
   ]
  },
  {
   "cell_type": "code",
   "execution_count": 52,
   "metadata": {},
   "outputs": [
    {
     "name": "stdout",
     "output_type": "stream",
     "text": [
      "('p1', 200, 'r')\n",
      "('p2', 130, 'b')\n",
      "('p3', 300, 'y')\n",
      "[('p1', 200, 'r'), ('p2', 130, 'b'), ('p3', 300, 'y')]\n"
     ]
    }
   ],
   "source": [
    "name=(\"p1\",\"p2\",\"p3\")\n",
    "price=(200,130,300)\n",
    "color=(\"r\",\"b\",\"y\")\n",
    "products=list(zip(name,price,color))\n",
    "for i in products:\n",
    "    print(i)\n",
    "print(products)"
   ]
  },
  {
   "cell_type": "code",
   "execution_count": 53,
   "metadata": {},
   "outputs": [
    {
     "name": "stdout",
     "output_type": "stream",
     "text": [
      "p1 200 r\n",
      "p2 130 b\n",
      "p3 300 y\n",
      "[('p1', 200, 'r'), ('p2', 130, 'b'), ('p3', 300, 'y')]\n"
     ]
    }
   ],
   "source": [
    "name=(\"p1\",\"p2\",\"p3\")\n",
    "price=(200,130,300)\n",
    "color=(\"r\",\"b\",\"y\")\n",
    "products=list(zip(name,price,color))\n",
    "for n,p,c in products:\n",
    "    print(n,p,c)\n",
    "print(products)"
   ]
  },
  {
   "cell_type": "code",
   "execution_count": 54,
   "metadata": {},
   "outputs": [
    {
     "name": "stdout",
     "output_type": "stream",
     "text": [
      "0 3\n",
      "1 4\n",
      "2 5\n",
      "3 6\n"
     ]
    }
   ],
   "source": [
    "list1=[3,4,5,6]\n",
    "result=list(enumerate(list1))\n",
    "for n , v in result:\n",
    "    print(n,v)"
   ]
  },
  {
   "cell_type": "markdown",
   "metadata": {},
   "source": [
    "### Set"
   ]
  },
  {
   "cell_type": "code",
   "execution_count": 3,
   "metadata": {},
   "outputs": [
    {
     "name": "stdout",
     "output_type": "stream",
     "text": [
      "{17, 4, 12}\n",
      "<class 'set'>\n"
     ]
    }
   ],
   "source": [
    "set1={4,12,17}\n",
    "print(set1)\n",
    "print(type(set1))"
   ]
  },
  {
   "cell_type": "code",
   "execution_count": 4,
   "metadata": {},
   "outputs": [
    {
     "name": "stdout",
     "output_type": "stream",
     "text": [
      "17,4,12,"
     ]
    }
   ],
   "source": [
    "set1={4,12,17}\n",
    "for x in set1:\n",
    "    print(x,end=\",\")"
   ]
  },
  {
   "cell_type": "code",
   "execution_count": 1,
   "metadata": {},
   "outputs": [
    {
     "name": "stdout",
     "output_type": "stream",
     "text": [
      "<class 'dict'>\n"
     ]
    }
   ],
   "source": [
    "set1={}\n",
    "print(type(set1))"
   ]
  },
  {
   "cell_type": "code",
   "execution_count": 3,
   "metadata": {},
   "outputs": [
    {
     "name": "stdout",
     "output_type": "stream",
     "text": [
      "<class 'set'>\n",
      "0\n"
     ]
    }
   ],
   "source": [
    "set1=set()\n",
    "print(type(set1))\n",
    "print(len(set1))"
   ]
  },
  {
   "cell_type": "code",
   "execution_count": 5,
   "metadata": {},
   "outputs": [
    {
     "name": "stdout",
     "output_type": "stream",
     "text": [
      "9\n",
      "{1, 4, 6, 8, 9, 12, 15, 17, 20}\n"
     ]
    }
   ],
   "source": [
    "set1={12,4,15,17,8,9,20,1,6,1,1}\n",
    "print(len(set1))\n",
    "print(set1)"
   ]
  },
  {
   "cell_type": "code",
   "execution_count": 8,
   "metadata": {},
   "outputs": [
    {
     "name": "stdout",
     "output_type": "stream",
     "text": [
      "4\n",
      "{0, 1, 12, 1.1}\n"
     ]
    }
   ],
   "source": [
    "set1={1,True,0,False,12,0.0,1.0,1.1}\n",
    "print(len(set1))\n",
    "print(set1)"
   ]
  },
  {
   "cell_type": "code",
   "execution_count": 11,
   "metadata": {},
   "outputs": [
    {
     "name": "stdout",
     "output_type": "stream",
     "text": [
      "{10, 3, 14, 15}\n"
     ]
    }
   ],
   "source": [
    "set1={3,14,15}\n",
    "set1.add(10)\n",
    "print(set1)\n"
   ]
  },
  {
   "cell_type": "code",
   "execution_count": 19,
   "metadata": {},
   "outputs": [
    {
     "name": "stdout",
     "output_type": "stream",
     "text": [
      "set()\n"
     ]
    }
   ],
   "source": [
    "set1={3,14,15,3,3,3}\n",
    "set1.update([3,12,20])\n",
    "set1.discard(30)\n",
    "set1.clear()\n",
    "print(set1)"
   ]
  },
  {
   "cell_type": "code",
   "execution_count": 22,
   "metadata": {},
   "outputs": [],
   "source": [
    "set1={3,14,15,3,3,3}\n",
    "del set1\n"
   ]
  },
  {
   "cell_type": "code",
   "execution_count": 26,
   "metadata": {},
   "outputs": [
    {
     "name": "stdout",
     "output_type": "stream",
     "text": [
      "{14, 15}\n"
     ]
    }
   ],
   "source": [
    "set1={3,14,15,3,3,3}\n",
    "set1.pop()\n",
    "print(set1)"
   ]
  },
  {
   "cell_type": "code",
   "execution_count": 40,
   "metadata": {},
   "outputs": [
    {
     "name": "stdout",
     "output_type": "stream",
     "text": [
      "pic1.jpg\n",
      "txt1.txt\n",
      "my_home_exercise.ipynb\n",
      "{'txt', 'jpg', 'ipynb'}\n"
     ]
    }
   ],
   "source": [
    "import os\n",
    "path=\"/Filoger/session11/Files/\"\n",
    "result= list(os.walk(path))\n",
    "exts=set()\n",
    "for path, dirs,files in result:\n",
    "    for file in files:\n",
    "        print(file)\n",
    "        ext=file.split(\".\")[-1]\n",
    "        exts.add(ext)\n",
    "print(exts)"
   ]
  },
  {
   "cell_type": "code",
   "execution_count": 45,
   "metadata": {},
   "outputs": [
    {
     "name": "stdout",
     "output_type": "stream",
     "text": [
      "True\n",
      "2046034753792\n",
      "2046034753792\n"
     ]
    }
   ],
   "source": [
    "t1=(4,13,12)\n",
    "t2=tuple(t1)\n",
    "print(t1 is t2)\n",
    "print(id(t1))\n",
    "print(id(t2))"
   ]
  },
  {
   "cell_type": "code",
   "execution_count": 52,
   "metadata": {},
   "outputs": [
    {
     "name": "stdout",
     "output_type": "stream",
     "text": [
      "True\n",
      "False\n",
      "True\n",
      "2046034835328\n",
      "2046034891776\n",
      "2046034835328\n",
      "[5, 7, 30000] [5, 7, 30000] [3, 5, 7]\n"
     ]
    }
   ],
   "source": [
    "list1=[3,5,7]\n",
    "list2=[3,5,7]\n",
    "print(list1 == list2)\n",
    "print(list1 is list2)\n",
    "list3 = list1\n",
    "print(list3 is list1)\n",
    "print(id(list1))\n",
    "print(id(list2))\n",
    "print(id(list3))\n",
    "list1.append(30000)\n",
    "list1.remove(3)\n",
    "print(list1,list3,list2)"
   ]
  },
  {
   "cell_type": "code",
   "execution_count": 60,
   "metadata": {},
   "outputs": [
    {
     "name": "stdout",
     "output_type": "stream",
     "text": [
      "[3, 50000000, 7, 300000] [3, 5, 7]\n"
     ]
    }
   ],
   "source": [
    "list1=[3,5,7]\n",
    "list2=[3,5,7]\n",
    "list3=list1[:]\n",
    "list1.append(300000)\n",
    "list1[1]=50000000\n",
    "print(list1,list3)"
   ]
  },
  {
   "cell_type": "code",
   "execution_count": 59,
   "metadata": {},
   "outputs": [
    {
     "name": "stdout",
     "output_type": "stream",
     "text": [
      "4\n",
      "[3, 5, 7, [2, 200, 6]] [3, 5, 7, [2, 200, 6]]\n"
     ]
    }
   ],
   "source": [
    "list1=[3,5,7,[2,4,6]]\n",
    "list3=list1[:]\n",
    "print(list1[3][1])\n",
    "list1[3][1]=200\n",
    "print(list1,list3)"
   ]
  },
  {
   "cell_type": "code",
   "execution_count": 62,
   "metadata": {},
   "outputs": [
    {
     "name": "stdout",
     "output_type": "stream",
     "text": [
      "[3, 5, 7, [2, 2000000, 6]] [3, 5, 7, [2, 4, 6]]\n"
     ]
    }
   ],
   "source": [
    "import copy\n",
    "list1=[3,5,7,[2,4,6]]\n",
    "list3=copy.deepcopy(list1)\n",
    "list1[3][1]=2000000\n",
    "print(list1,list3)"
   ]
  },
  {
   "cell_type": "code",
   "execution_count": 67,
   "metadata": {},
   "outputs": [
    {
     "name": "stdout",
     "output_type": "stream",
     "text": [
      "{'a': 2, 'b': {'c': 200, 'd': 5}}\n",
      "{'a': 300000, 'b': {'c': 200, 'd': 5}} {'a': 2, 'b': {'c': 200, 'd': 5}}\n"
     ]
    }
   ],
   "source": [
    "dict1={\n",
    "    \"a\":2,\n",
    "    \"b\":{\"c\":200,\"d\":5}\n",
    "}\n",
    "dict2=dict(dict1)\n",
    "print(dict2)\n",
    "dict2[\"a\"]=300000\n",
    "print(dict2,dict1)"
   ]
  },
  {
   "cell_type": "code",
   "execution_count": 69,
   "metadata": {},
   "outputs": [
    {
     "name": "stdout",
     "output_type": "stream",
     "text": [
      "{'a': 2, 'b': {'c': 200, 'd': 5}}\n",
      "{'a': 2, 'b': {'c': 500000, 'd': 5}} {'a': 2, 'b': {'c': 200, 'd': 5}}\n"
     ]
    }
   ],
   "source": [
    "import copy\n",
    "dict1={\n",
    "    \"a\":2,\n",
    "    \"b\":{\"c\":200,\"d\":5}\n",
    "}\n",
    "dict2=copy.deepcopy(dict1)\n",
    "print(dict2)\n",
    "dict2[\"b\"][\"c\"]=500000\n",
    "print(dict2,dict1)\n"
   ]
  },
  {
   "cell_type": "code",
   "execution_count": 72,
   "metadata": {},
   "outputs": [
    {
     "name": "stdout",
     "output_type": "stream",
     "text": [
      "{4, 5, 6, 7} {4, 5, 6, 7, 30}\n"
     ]
    }
   ],
   "source": [
    "set1={4,5,6,6,7}\n",
    "set2=set(set1)\n",
    "set2.add(30)\n",
    "print(set1,set2)"
   ]
  }
 ],
 "metadata": {
  "kernelspec": {
   "display_name": "Python 3",
   "language": "python",
   "name": "python3"
  },
  "language_info": {
   "codemirror_mode": {
    "name": "ipython",
    "version": 3
   },
   "file_extension": ".py",
   "mimetype": "text/x-python",
   "name": "python",
   "nbconvert_exporter": "python",
   "pygments_lexer": "ipython3",
   "version": "3.12.0"
  }
 },
 "nbformat": 4,
 "nbformat_minor": 2
}
